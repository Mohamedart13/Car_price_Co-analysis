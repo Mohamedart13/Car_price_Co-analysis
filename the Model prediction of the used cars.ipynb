{
 "cells": [
  {
   "cell_type": "markdown",
   "id": "f911912a",
   "metadata": {},
   "source": [
    "## in this project we need to project the sevral model to predict the pricing the used cars "
   ]
  },
  {
   "cell_type": "markdown",
   "id": "07df4989",
   "metadata": {},
   "source": [
    "#### some questions we need to answer in this model .\n",
    "1- Do i know if the dealer if offring the fair value for my trade-in?\n",
    "2- Do i know if i put the fair value on my car?"
   ]
  },
  {
   "cell_type": "code",
   "execution_count": 247,
   "id": "50919558",
   "metadata": {},
   "outputs": [],
   "source": [
    "import pandas as pd\n",
    "import numpy as np\n",
    "import matplotlib.pyplot as plt\n",
    "import seaborn as sns\n",
    "import requests"
   ]
  },
  {
   "cell_type": "code",
   "execution_count": 3,
   "id": "df14644e",
   "metadata": {},
   "outputs": [],
   "source": [
    "# dowload the dataset file.\n",
    "file_path= \"https://cf-courses-data.s3.us.cloud-object-storage.appdomain.cloud/IBMDeveloperSkillsNetwork-DA0101EN-SkillsNetwork/labs/Data%20files/automobileEDA.csv\""
   ]
  },
  {
   "cell_type": "code",
   "execution_count": 9,
   "id": "2dc99028",
   "metadata": {},
   "outputs": [],
   "source": [
    "# dowload the file online and open it.\n",
    "def loudFile(url, file_name):\n",
    "    response = requests.get(url)\n",
    "    if response.status_code == 200:\n",
    "        with open(file_name,\"wb\") as file:\n",
    "            file.write(response.content)"
   ]
  },
  {
   "cell_type": "code",
   "execution_count": 10,
   "id": "510634b2",
   "metadata": {},
   "outputs": [],
   "source": [
    "loudFile(file_path,\"car_use.csv\")\n",
    "fileName = \"car_use.csv\""
   ]
  },
  {
   "cell_type": "code",
   "execution_count": 120,
   "id": "68bc45af",
   "metadata": {},
   "outputs": [],
   "source": [
    "# to raed the csv file.\n",
    "df = pd.read_csv(fileName, header=0) # this data had header in thne frist row."
   ]
  },
  {
   "cell_type": "code",
   "execution_count": 121,
   "id": "ce7c5063",
   "metadata": {},
   "outputs": [
    {
     "data": {
      "text/html": [
       "<div>\n",
       "<style scoped>\n",
       "    .dataframe tbody tr th:only-of-type {\n",
       "        vertical-align: middle;\n",
       "    }\n",
       "\n",
       "    .dataframe tbody tr th {\n",
       "        vertical-align: top;\n",
       "    }\n",
       "\n",
       "    .dataframe thead th {\n",
       "        text-align: right;\n",
       "    }\n",
       "</style>\n",
       "<table border=\"1\" class=\"dataframe\">\n",
       "  <thead>\n",
       "    <tr style=\"text-align: right;\">\n",
       "      <th></th>\n",
       "      <th>symboling</th>\n",
       "      <th>normalized-losses</th>\n",
       "      <th>make</th>\n",
       "      <th>aspiration</th>\n",
       "      <th>num-of-doors</th>\n",
       "      <th>body-style</th>\n",
       "      <th>drive-wheels</th>\n",
       "      <th>engine-location</th>\n",
       "      <th>wheel-base</th>\n",
       "      <th>length</th>\n",
       "      <th>...</th>\n",
       "      <th>compression-ratio</th>\n",
       "      <th>horsepower</th>\n",
       "      <th>peak-rpm</th>\n",
       "      <th>city-mpg</th>\n",
       "      <th>highway-mpg</th>\n",
       "      <th>price</th>\n",
       "      <th>city-L/100km</th>\n",
       "      <th>horsepower-binned</th>\n",
       "      <th>diesel</th>\n",
       "      <th>gas</th>\n",
       "    </tr>\n",
       "  </thead>\n",
       "  <tbody>\n",
       "    <tr>\n",
       "      <th>0</th>\n",
       "      <td>3</td>\n",
       "      <td>122</td>\n",
       "      <td>alfa-romero</td>\n",
       "      <td>std</td>\n",
       "      <td>two</td>\n",
       "      <td>convertible</td>\n",
       "      <td>rwd</td>\n",
       "      <td>front</td>\n",
       "      <td>88.6</td>\n",
       "      <td>0.811148</td>\n",
       "      <td>...</td>\n",
       "      <td>9.0</td>\n",
       "      <td>111.0</td>\n",
       "      <td>5000.0</td>\n",
       "      <td>21</td>\n",
       "      <td>27</td>\n",
       "      <td>13495.0</td>\n",
       "      <td>11.190476</td>\n",
       "      <td>Medium</td>\n",
       "      <td>0</td>\n",
       "      <td>1</td>\n",
       "    </tr>\n",
       "    <tr>\n",
       "      <th>1</th>\n",
       "      <td>3</td>\n",
       "      <td>122</td>\n",
       "      <td>alfa-romero</td>\n",
       "      <td>std</td>\n",
       "      <td>two</td>\n",
       "      <td>convertible</td>\n",
       "      <td>rwd</td>\n",
       "      <td>front</td>\n",
       "      <td>88.6</td>\n",
       "      <td>0.811148</td>\n",
       "      <td>...</td>\n",
       "      <td>9.0</td>\n",
       "      <td>111.0</td>\n",
       "      <td>5000.0</td>\n",
       "      <td>21</td>\n",
       "      <td>27</td>\n",
       "      <td>16500.0</td>\n",
       "      <td>11.190476</td>\n",
       "      <td>Medium</td>\n",
       "      <td>0</td>\n",
       "      <td>1</td>\n",
       "    </tr>\n",
       "    <tr>\n",
       "      <th>2</th>\n",
       "      <td>1</td>\n",
       "      <td>122</td>\n",
       "      <td>alfa-romero</td>\n",
       "      <td>std</td>\n",
       "      <td>two</td>\n",
       "      <td>hatchback</td>\n",
       "      <td>rwd</td>\n",
       "      <td>front</td>\n",
       "      <td>94.5</td>\n",
       "      <td>0.822681</td>\n",
       "      <td>...</td>\n",
       "      <td>9.0</td>\n",
       "      <td>154.0</td>\n",
       "      <td>5000.0</td>\n",
       "      <td>19</td>\n",
       "      <td>26</td>\n",
       "      <td>16500.0</td>\n",
       "      <td>12.368421</td>\n",
       "      <td>Medium</td>\n",
       "      <td>0</td>\n",
       "      <td>1</td>\n",
       "    </tr>\n",
       "    <tr>\n",
       "      <th>3</th>\n",
       "      <td>2</td>\n",
       "      <td>164</td>\n",
       "      <td>audi</td>\n",
       "      <td>std</td>\n",
       "      <td>four</td>\n",
       "      <td>sedan</td>\n",
       "      <td>fwd</td>\n",
       "      <td>front</td>\n",
       "      <td>99.8</td>\n",
       "      <td>0.848630</td>\n",
       "      <td>...</td>\n",
       "      <td>10.0</td>\n",
       "      <td>102.0</td>\n",
       "      <td>5500.0</td>\n",
       "      <td>24</td>\n",
       "      <td>30</td>\n",
       "      <td>13950.0</td>\n",
       "      <td>9.791667</td>\n",
       "      <td>Medium</td>\n",
       "      <td>0</td>\n",
       "      <td>1</td>\n",
       "    </tr>\n",
       "    <tr>\n",
       "      <th>4</th>\n",
       "      <td>2</td>\n",
       "      <td>164</td>\n",
       "      <td>audi</td>\n",
       "      <td>std</td>\n",
       "      <td>four</td>\n",
       "      <td>sedan</td>\n",
       "      <td>4wd</td>\n",
       "      <td>front</td>\n",
       "      <td>99.4</td>\n",
       "      <td>0.848630</td>\n",
       "      <td>...</td>\n",
       "      <td>8.0</td>\n",
       "      <td>115.0</td>\n",
       "      <td>5500.0</td>\n",
       "      <td>18</td>\n",
       "      <td>22</td>\n",
       "      <td>17450.0</td>\n",
       "      <td>13.055556</td>\n",
       "      <td>Medium</td>\n",
       "      <td>0</td>\n",
       "      <td>1</td>\n",
       "    </tr>\n",
       "  </tbody>\n",
       "</table>\n",
       "<p>5 rows × 29 columns</p>\n",
       "</div>"
      ],
      "text/plain": [
       "   symboling  normalized-losses         make aspiration num-of-doors  \\\n",
       "0          3                122  alfa-romero        std          two   \n",
       "1          3                122  alfa-romero        std          two   \n",
       "2          1                122  alfa-romero        std          two   \n",
       "3          2                164         audi        std         four   \n",
       "4          2                164         audi        std         four   \n",
       "\n",
       "    body-style drive-wheels engine-location  wheel-base    length  ...  \\\n",
       "0  convertible          rwd           front        88.6  0.811148  ...   \n",
       "1  convertible          rwd           front        88.6  0.811148  ...   \n",
       "2    hatchback          rwd           front        94.5  0.822681  ...   \n",
       "3        sedan          fwd           front        99.8  0.848630  ...   \n",
       "4        sedan          4wd           front        99.4  0.848630  ...   \n",
       "\n",
       "   compression-ratio  horsepower  peak-rpm city-mpg highway-mpg    price  \\\n",
       "0                9.0       111.0    5000.0       21          27  13495.0   \n",
       "1                9.0       111.0    5000.0       21          27  16500.0   \n",
       "2                9.0       154.0    5000.0       19          26  16500.0   \n",
       "3               10.0       102.0    5500.0       24          30  13950.0   \n",
       "4                8.0       115.0    5500.0       18          22  17450.0   \n",
       "\n",
       "  city-L/100km  horsepower-binned  diesel  gas  \n",
       "0    11.190476             Medium       0    1  \n",
       "1    11.190476             Medium       0    1  \n",
       "2    12.368421             Medium       0    1  \n",
       "3     9.791667             Medium       0    1  \n",
       "4    13.055556             Medium       0    1  \n",
       "\n",
       "[5 rows x 29 columns]"
      ]
     },
     "execution_count": 121,
     "metadata": {},
     "output_type": "execute_result"
    }
   ],
   "source": [
    "df.head(5)"
   ]
  },
  {
   "cell_type": "code",
   "execution_count": 122,
   "id": "2f08b520",
   "metadata": {},
   "outputs": [],
   "source": [
    "# first we have to check the all data is clean and there is null value .\n",
    "def missing_val(dataset):\n",
    "    null_val =dataset.isnull()\n",
    "    for column in null_val.columns.values.tolist():\n",
    "        null_count_val = null_val[column].sum()\n",
    "        if null_count_val > 0 :\n",
    "            print(f\"{column}\")\n",
    "            print(f\"we have {null_count_val} null value in this column. \")\n",
    "            print(\"\")\n",
    "            print(\"---------------------⛔⛔⛔⛔--------------------------\")\n",
    "        else :\n",
    "            print(f\"the column name {column} is clean from the null\")\n",
    "            print(\"\")\n",
    "            print(\"---------------------'👌👌👌👌'--------------------------\")\n",
    "    return"
   ]
  },
  {
   "cell_type": "code",
   "execution_count": 566,
   "id": "fa3b9121",
   "metadata": {},
   "outputs": [
    {
     "name": "stdout",
     "output_type": "stream",
     "text": [
      "the column name symboling is clean from the null\n",
      "\n",
      "---------------------'👌👌👌👌'--------------------------\n",
      "the column name normalized-losses is clean from the null\n",
      "\n",
      "---------------------'👌👌👌👌'--------------------------\n",
      "the column name make is clean from the null\n",
      "\n",
      "---------------------'👌👌👌👌'--------------------------\n",
      "the column name aspiration is clean from the null\n",
      "\n",
      "---------------------'👌👌👌👌'--------------------------\n",
      "the column name num-of-doors is clean from the null\n",
      "\n",
      "---------------------'👌👌👌👌'--------------------------\n",
      "the column name body-style is clean from the null\n",
      "\n",
      "---------------------'👌👌👌👌'--------------------------\n",
      "the column name drive-wheels is clean from the null\n",
      "\n",
      "---------------------'👌👌👌👌'--------------------------\n",
      "the column name engine-location is clean from the null\n",
      "\n",
      "---------------------'👌👌👌👌'--------------------------\n",
      "the column name wheel-base is clean from the null\n",
      "\n",
      "---------------------'👌👌👌👌'--------------------------\n",
      "the column name length is clean from the null\n",
      "\n",
      "---------------------'👌👌👌👌'--------------------------\n",
      "the column name width is clean from the null\n",
      "\n",
      "---------------------'👌👌👌👌'--------------------------\n",
      "the column name height is clean from the null\n",
      "\n",
      "---------------------'👌👌👌👌'--------------------------\n",
      "the column name curb-weight is clean from the null\n",
      "\n",
      "---------------------'👌👌👌👌'--------------------------\n",
      "the column name engine-type is clean from the null\n",
      "\n",
      "---------------------'👌👌👌👌'--------------------------\n",
      "the column name num-of-cylinders is clean from the null\n",
      "\n",
      "---------------------'👌👌👌👌'--------------------------\n",
      "the column name engine-size is clean from the null\n",
      "\n",
      "---------------------'👌👌👌👌'--------------------------\n",
      "the column name fuel-system is clean from the null\n",
      "\n",
      "---------------------'👌👌👌👌'--------------------------\n",
      "the column name bore is clean from the null\n",
      "\n",
      "---------------------'👌👌👌👌'--------------------------\n",
      "the column name stroke is clean from the null\n",
      "\n",
      "---------------------'👌👌👌👌'--------------------------\n",
      "the column name compression-ratio is clean from the null\n",
      "\n",
      "---------------------'👌👌👌👌'--------------------------\n",
      "the column name horsepower is clean from the null\n",
      "\n",
      "---------------------'👌👌👌👌'--------------------------\n",
      "the column name peak-rpm is clean from the null\n",
      "\n",
      "---------------------'👌👌👌👌'--------------------------\n",
      "the column name city-mpg is clean from the null\n",
      "\n",
      "---------------------'👌👌👌👌'--------------------------\n",
      "the column name highway-mpg is clean from the null\n",
      "\n",
      "---------------------'👌👌👌👌'--------------------------\n",
      "the column name price is clean from the null\n",
      "\n",
      "---------------------'👌👌👌👌'--------------------------\n",
      "the column name city-L/100km is clean from the null\n",
      "\n",
      "---------------------'👌👌👌👌'--------------------------\n",
      "the column name horsepower-binned is clean from the null\n",
      "\n",
      "---------------------'👌👌👌👌'--------------------------\n",
      "the column name diesel is clean from the null\n",
      "\n",
      "---------------------'👌👌👌👌'--------------------------\n",
      "the column name gas is clean from the null\n",
      "\n",
      "---------------------'👌👌👌👌'--------------------------\n"
     ]
    }
   ],
   "source": [
    "missing_val(df)"
   ]
  },
  {
   "cell_type": "code",
   "execution_count": 124,
   "id": "eb7ef515",
   "metadata": {},
   "outputs": [],
   "source": [
    "# we have to columns need to cleaning [stroke, horsepower]\n",
    "\n",
    "cleaning_val = df[[\"stroke\", \"horsepower-binned\"]]"
   ]
  },
  {
   "cell_type": "code",
   "execution_count": 125,
   "id": "158ba28a",
   "metadata": {},
   "outputs": [],
   "source": [
    "# cleaning the stroke\n",
    "#cleaning_val[\"stroke\"].value_counts()\n",
    "# replace the 4 null value with the frequntly value in the columns {3.40}\n",
    "df[\"stroke\"].replace(np.nan,3.40,inplace=True)"
   ]
  },
  {
   "cell_type": "code",
   "execution_count": 126,
   "id": "f2027b46",
   "metadata": {},
   "outputs": [],
   "source": [
    "# cleaning horsepower column.\n",
    "cleaning_val[\"horsepower-binned\"].value_counts()\n",
    "# we will repalce it with the most frequntcy data. 68\n",
    "df[\"horsepower-binned\"].replace(np.nan,\"low\",inplace=True)"
   ]
  },
  {
   "cell_type": "markdown",
   "id": "3d66cb17",
   "metadata": {},
   "source": [
    "##### now we can start the task with the clean data from the missing value."
   ]
  },
  {
   "cell_type": "code",
   "execution_count": 58,
   "id": "05bbe768",
   "metadata": {},
   "outputs": [],
   "source": [
    "# some notes in this data.\n",
    "# x = the prodictor variable / independent variable.\n",
    "# Y = the response / dependent variable (which i need to predict)\n",
    "# a = intercept of regression\n",
    "# b = slope of regression\n",
    "# the linear funcation for the data.\n",
    "\n",
    "#    yhat = a + bx"
   ]
  },
  {
   "cell_type": "code",
   "execution_count": 127,
   "id": "1add1688",
   "metadata": {},
   "outputs": [
    {
     "data": {
      "text/html": [
       "<style>#sk-container-id-4 {color: black;}#sk-container-id-4 pre{padding: 0;}#sk-container-id-4 div.sk-toggleable {background-color: white;}#sk-container-id-4 label.sk-toggleable__label {cursor: pointer;display: block;width: 100%;margin-bottom: 0;padding: 0.3em;box-sizing: border-box;text-align: center;}#sk-container-id-4 label.sk-toggleable__label-arrow:before {content: \"▸\";float: left;margin-right: 0.25em;color: #696969;}#sk-container-id-4 label.sk-toggleable__label-arrow:hover:before {color: black;}#sk-container-id-4 div.sk-estimator:hover label.sk-toggleable__label-arrow:before {color: black;}#sk-container-id-4 div.sk-toggleable__content {max-height: 0;max-width: 0;overflow: hidden;text-align: left;background-color: #f0f8ff;}#sk-container-id-4 div.sk-toggleable__content pre {margin: 0.2em;color: black;border-radius: 0.25em;background-color: #f0f8ff;}#sk-container-id-4 input.sk-toggleable__control:checked~div.sk-toggleable__content {max-height: 200px;max-width: 100%;overflow: auto;}#sk-container-id-4 input.sk-toggleable__control:checked~label.sk-toggleable__label-arrow:before {content: \"▾\";}#sk-container-id-4 div.sk-estimator input.sk-toggleable__control:checked~label.sk-toggleable__label {background-color: #d4ebff;}#sk-container-id-4 div.sk-label input.sk-toggleable__control:checked~label.sk-toggleable__label {background-color: #d4ebff;}#sk-container-id-4 input.sk-hidden--visually {border: 0;clip: rect(1px 1px 1px 1px);clip: rect(1px, 1px, 1px, 1px);height: 1px;margin: -1px;overflow: hidden;padding: 0;position: absolute;width: 1px;}#sk-container-id-4 div.sk-estimator {font-family: monospace;background-color: #f0f8ff;border: 1px dotted black;border-radius: 0.25em;box-sizing: border-box;margin-bottom: 0.5em;}#sk-container-id-4 div.sk-estimator:hover {background-color: #d4ebff;}#sk-container-id-4 div.sk-parallel-item::after {content: \"\";width: 100%;border-bottom: 1px solid gray;flex-grow: 1;}#sk-container-id-4 div.sk-label:hover label.sk-toggleable__label {background-color: #d4ebff;}#sk-container-id-4 div.sk-serial::before {content: \"\";position: absolute;border-left: 1px solid gray;box-sizing: border-box;top: 0;bottom: 0;left: 50%;z-index: 0;}#sk-container-id-4 div.sk-serial {display: flex;flex-direction: column;align-items: center;background-color: white;padding-right: 0.2em;padding-left: 0.2em;position: relative;}#sk-container-id-4 div.sk-item {position: relative;z-index: 1;}#sk-container-id-4 div.sk-parallel {display: flex;align-items: stretch;justify-content: center;background-color: white;position: relative;}#sk-container-id-4 div.sk-item::before, #sk-container-id-4 div.sk-parallel-item::before {content: \"\";position: absolute;border-left: 1px solid gray;box-sizing: border-box;top: 0;bottom: 0;left: 50%;z-index: -1;}#sk-container-id-4 div.sk-parallel-item {display: flex;flex-direction: column;z-index: 1;position: relative;background-color: white;}#sk-container-id-4 div.sk-parallel-item:first-child::after {align-self: flex-end;width: 50%;}#sk-container-id-4 div.sk-parallel-item:last-child::after {align-self: flex-start;width: 50%;}#sk-container-id-4 div.sk-parallel-item:only-child::after {width: 0;}#sk-container-id-4 div.sk-dashed-wrapped {border: 1px dashed gray;margin: 0 0.4em 0.5em 0.4em;box-sizing: border-box;padding-bottom: 0.4em;background-color: white;}#sk-container-id-4 div.sk-label label {font-family: monospace;font-weight: bold;display: inline-block;line-height: 1.2em;}#sk-container-id-4 div.sk-label-container {text-align: center;}#sk-container-id-4 div.sk-container {/* jupyter's `normalize.less` sets `[hidden] { display: none; }` but bootstrap.min.css set `[hidden] { display: none !important; }` so we also need the `!important` here to be able to override the default hidden behavior on the sphinx rendered scikit-learn.org. See: https://github.com/scikit-learn/scikit-learn/issues/21755 */display: inline-block !important;position: relative;}#sk-container-id-4 div.sk-text-repr-fallback {display: none;}</style><div id=\"sk-container-id-4\" class=\"sk-top-container\"><div class=\"sk-text-repr-fallback\"><pre>LinearRegression()</pre><b>In a Jupyter environment, please rerun this cell to show the HTML representation or trust the notebook. <br />On GitHub, the HTML representation is unable to render, please try loading this page with nbviewer.org.</b></div><div class=\"sk-container\" hidden><div class=\"sk-item\"><div class=\"sk-estimator sk-toggleable\"><input class=\"sk-toggleable__control sk-hidden--visually\" id=\"sk-estimator-id-4\" type=\"checkbox\" checked><label for=\"sk-estimator-id-4\" class=\"sk-toggleable__label sk-toggleable__label-arrow\">LinearRegression</label><div class=\"sk-toggleable__content\"><pre>LinearRegression()</pre></div></div></div></div></div>"
      ],
      "text/plain": [
       "LinearRegression()"
      ]
     },
     "execution_count": 127,
     "metadata": {},
     "output_type": "execute_result"
    }
   ],
   "source": [
    "# to load the linear regression is modules is.\n",
    "from sklearn.linear_model import LinearRegression\n",
    "# create linear regression model object as lm\n",
    "lm= LinearRegression()\n",
    "lm"
   ]
  },
  {
   "cell_type": "code",
   "execution_count": 570,
   "id": "76fe6ff7",
   "metadata": {},
   "outputs": [
    {
     "data": {
      "text/plain": [
       "array([16236.50464347, 16236.50464347, 17058.23802179, 13771.3045085 ,\n",
       "       20345.17153508, 17879.97140011, 17879.97140011, 17879.97140011,\n",
       "       21988.63829172, 14593.03788682, 14593.03788682, 15414.77126514,\n",
       "       15414.77126514, 17879.97140011, 20345.17153508, 20345.17153508,\n",
       "       21988.63829172, -5128.5631929 ,  3088.77059031,  3088.77059031,\n",
       "        4732.23734696,  7197.43748192, 13771.3045085 ,  7197.43748192,\n",
       "        7197.43748192,  7197.43748192, 13771.3045085 , 13771.3045085 ,\n",
       "       18701.70477843, -5950.29657123,  7197.43748192,  3910.50396864,\n",
       "       10484.37099521, 10484.37099521, 10484.37099521, 10484.37099521,\n",
       "       11306.10437353, 11306.10437353, 11306.10437353, 11306.10437353,\n",
       "       15414.77126514, 12949.57113018, 14593.03788682, 14593.03788682,\n",
       "       22810.37167004, 22810.37167004, 24453.83842668, 12949.57113018,\n",
       "        7197.43748192,  7197.43748192,  7197.43748192,  7197.43748192,\n",
       "       19523.43815675, 19523.43815675, 19523.43815675, 19523.43815675,\n",
       "       12127.83775186, 12127.83775186, 12127.83775186, 12127.83775186,\n",
       "        3910.50396864, 12127.83775186, 16236.50464347,  6375.7041036 ,\n",
       "       17879.97140011, 17879.97140011, 17879.97140011, 17879.97140011,\n",
       "       23632.10504836, 23632.10504836, 25275.57180501, 25275.57180501,\n",
       "       18701.70477843,  4732.23734696,  7197.43748192,  7197.43748192,\n",
       "       13771.3045085 , 13771.3045085 , 12127.83775186, 18701.70477843,\n",
       "       18701.70477843, 18701.70477843, 12127.83775186, 12127.83775186,\n",
       "       13771.3045085 , 13771.3045085 ,  8019.17086025, -2663.36305794,\n",
       "        8019.17086025,  8019.17086025,  8019.17086025,  8019.17086025,\n",
       "        8019.17086025,  8019.17086025,  8019.17086025,  8019.17086025,\n",
       "       10484.37099521, 10484.37099521, 20345.17153508, 20345.17153508,\n",
       "       17879.97140011, 17879.97140011, 19523.43815675, 17879.97140011,\n",
       "       18701.70477843, 11306.10437353, 18701.70477843, 17879.97140011,\n",
       "       18701.70477843, 11306.10437353, 18701.70477843, 17879.97140011,\n",
       "       18701.70477843, 11306.10437353, 18701.70477843,  4732.23734696,\n",
       "       13771.3045085 ,  7197.43748192,  7197.43748192,  7197.43748192,\n",
       "       13771.3045085 , 18701.70477843, 16236.50464347, 17879.97140011,\n",
       "       17879.97140011, 17879.97140011, 12949.57113018, 12949.57113018,\n",
       "       15414.77126514, 15414.77126514, 15414.77126514, 15414.77126514,\n",
       "       17058.23802179, 17058.23802179,  8840.90423857, 12949.57113018,\n",
       "       12949.57113018,  8019.17086025, 11306.10437353, 12127.83775186,\n",
       "       17879.97140011, 14593.03788682, 12127.83775186, 12949.57113018,\n",
       "       14593.03788682, 19523.43815675,  6375.7041036 ,  7197.43748192,\n",
       "        7197.43748192,  8019.17086025, 12127.83775186, 12127.83775186,\n",
       "        8019.17086025,  8019.17086025,  8840.90423857,  -198.16292297,\n",
       "        -198.16292297, 10484.37099521, 10484.37099521, 10484.37099521,\n",
       "       10484.37099521, 14593.03788682, 14593.03788682, 13771.3045085 ,\n",
       "       13771.3045085 , 13771.3045085 , 13771.3045085 , 13771.3045085 ,\n",
       "       13771.3045085 , 10484.37099521, 11306.10437353, 12127.83775186,\n",
       "       12127.83775186, 12127.83775186, 18701.70477843, 18701.70477843,\n",
       "       18701.70477843, 18701.70477843,   623.57045535, 10484.37099521,\n",
       "         623.57045535, 10484.37099521, 10484.37099521,  3910.50396864,\n",
       "       12127.83775186, 14593.03788682, 14593.03788682, 18701.70477843,\n",
       "        7197.43748192, 12949.57113018, 15414.77126514, 15414.77126514,\n",
       "       15414.77126514, 15414.77126514, 20345.17153508, 20345.17153508,\n",
       "       15414.77126514, 17879.97140011, 19523.43815675, 16236.50464347,\n",
       "       17879.97140011])"
      ]
     },
     "execution_count": 570,
     "metadata": {},
     "output_type": "execute_result"
    }
   ],
   "source": [
    "# the question is how can the highway-mpg help us to to prodict car price ? \n",
    "# the responce/independent variable  is highway-mpg is x\n",
    "x = df[[\"highway-mpg\"]] # two squer pracet to put it inn data frame.\n",
    "# the predictor/dependent variable is price which i want predict. is y\n",
    "y = df[\"price\"]\n",
    "# fit the linear model\n",
    "lm.fit(x,y)\n",
    "# we  can outpit the prediction.\n",
    "yhat=lm.predict(x) \n",
    "yhat"
   ]
  },
  {
   "cell_type": "code",
   "execution_count": 129,
   "id": "224f11ce",
   "metadata": {},
   "outputs": [
    {
     "data": {
      "text/plain": [
       "array([-821.73337832])"
      ]
     },
     "execution_count": 129,
     "metadata": {},
     "output_type": "execute_result"
    }
   ],
   "source": [
    "# What is the value of the intercept (a)?\n",
    "lm.intercept_\n",
    "\n",
    "#What is the value of the slope (b)?\n",
    "slope = lm.coef_\n",
    "slope"
   ]
  },
  {
   "cell_type": "code",
   "execution_count": 130,
   "id": "233d95b9",
   "metadata": {},
   "outputs": [
    {
     "data": {
      "text/plain": [
       "38423.305858157386"
      ]
     },
     "execution_count": 130,
     "metadata": {},
     "output_type": "execute_result"
    }
   ],
   "source": [
    "lm.intercept_"
   ]
  },
  {
   "cell_type": "code",
   "execution_count": 131,
   "id": "20a0fb29",
   "metadata": {},
   "outputs": [
    {
     "data": {
      "text/plain": [
       "highway-mpg    38423.305858\n",
       "dtype: float64"
      ]
     },
     "execution_count": 131,
     "metadata": {},
     "output_type": "execute_result"
    }
   ],
   "source": [
    "# can calculate the intecept. b = depentent_variable_maen_y - coefficient associated with x * mean indepentent_variable_ x.\n",
    "x_mean = x.mean() #indepentent_variable\n",
    "y_mean = y.mean() #depentent_variable\n",
    "b_intercept  = y_mean - slope * x_mean\n",
    "b_intercept\n",
    "# the same result of lm.intercept_"
   ]
  },
  {
   "cell_type": "code",
   "execution_count": 136,
   "id": "e13da591",
   "metadata": {},
   "outputs": [
    {
     "ename": "TypeError",
     "evalue": "Series.rename() got an unexpected keyword argument 'columns'",
     "output_type": "error",
     "traceback": [
      "\u001b[1;31m---------------------------------------------------------------------------\u001b[0m",
      "\u001b[1;31mTypeError\u001b[0m                                 Traceback (most recent call last)",
      "Cell \u001b[1;32mIn[136], line 4\u001b[0m\n\u001b[0;32m      1\u001b[0m \u001b[38;5;66;03m# finaly i can make prediction for used car price .\u001b[39;00m\n\u001b[0;32m      2\u001b[0m \u001b[38;5;66;03m# yhat = intercept + slope* independent_variable.\u001b[39;00m\n\u001b[0;32m      3\u001b[0m price_used \u001b[38;5;241m=\u001b[39m  \u001b[38;5;241m38423.31\u001b[39m \u001b[38;5;241m+\u001b[39m \u001b[38;5;241m-\u001b[39m\u001b[38;5;241m821.73\u001b[39m \u001b[38;5;241m*\u001b[39m df[\u001b[38;5;124m\"\u001b[39m\u001b[38;5;124mhighway-mpg\u001b[39m\u001b[38;5;124m\"\u001b[39m]\n\u001b[1;32m----> 4\u001b[0m price_used\u001b[38;5;241m.\u001b[39mrename(columns\u001b[38;5;241m=\u001b[39m{\u001b[38;5;124m\"\u001b[39m\u001b[38;5;124mhighway-mpg\u001b[39m\u001b[38;5;124m\"\u001b[39m:\u001b[38;5;124m\"\u001b[39m\u001b[38;5;124mused_price\u001b[39m\u001b[38;5;124m\"\u001b[39m})\n",
      "\u001b[1;31mTypeError\u001b[0m: Series.rename() got an unexpected keyword argument 'columns'"
     ]
    }
   ],
   "source": [
    "# finaly i can make prediction for used car price .\n",
    "# yhat = intercept + slope* independent_variable.\n",
    "price_used =  38423.31 + -821.73 * df[\"highway-mpg\"]\n",
    "price_used.rename(columns={\"highway-mpg\":\"used_price\"},inpalce=True)"
   ]
  },
  {
   "cell_type": "code",
   "execution_count": 151,
   "id": "c646cf78",
   "metadata": {},
   "outputs": [
    {
     "data": {
      "text/plain": [
       "16236.599999999999"
      ]
     },
     "execution_count": 151,
     "metadata": {},
     "output_type": "execute_result"
    }
   ],
   "source": [
    "testused = 38423.31 + (-821.73 * 27)\n",
    "testused"
   ]
  },
  {
   "cell_type": "code",
   "execution_count": 139,
   "id": "9b0310a9",
   "metadata": {},
   "outputs": [],
   "source": [
    "# to rename the columns name\n",
    "price_used = price_used.to_frame()\n",
    "price_used.rename(columns={\"highway-mpg\":\"used_price\"},inplace=True)"
   ]
  },
  {
   "cell_type": "code",
   "execution_count": 140,
   "id": "eaa5bbf2",
   "metadata": {},
   "outputs": [
    {
     "data": {
      "text/html": [
       "<div>\n",
       "<style scoped>\n",
       "    .dataframe tbody tr th:only-of-type {\n",
       "        vertical-align: middle;\n",
       "    }\n",
       "\n",
       "    .dataframe tbody tr th {\n",
       "        vertical-align: top;\n",
       "    }\n",
       "\n",
       "    .dataframe thead th {\n",
       "        text-align: right;\n",
       "    }\n",
       "</style>\n",
       "<table border=\"1\" class=\"dataframe\">\n",
       "  <thead>\n",
       "    <tr style=\"text-align: right;\">\n",
       "      <th></th>\n",
       "      <th>used_price</th>\n",
       "    </tr>\n",
       "  </thead>\n",
       "  <tbody>\n",
       "    <tr>\n",
       "      <th>0</th>\n",
       "      <td>16236.60</td>\n",
       "    </tr>\n",
       "    <tr>\n",
       "      <th>1</th>\n",
       "      <td>16236.60</td>\n",
       "    </tr>\n",
       "    <tr>\n",
       "      <th>2</th>\n",
       "      <td>17058.33</td>\n",
       "    </tr>\n",
       "    <tr>\n",
       "      <th>3</th>\n",
       "      <td>13771.41</td>\n",
       "    </tr>\n",
       "    <tr>\n",
       "      <th>4</th>\n",
       "      <td>20345.25</td>\n",
       "    </tr>\n",
       "    <tr>\n",
       "      <th>...</th>\n",
       "      <td>...</td>\n",
       "    </tr>\n",
       "    <tr>\n",
       "      <th>196</th>\n",
       "      <td>15414.87</td>\n",
       "    </tr>\n",
       "    <tr>\n",
       "      <th>197</th>\n",
       "      <td>17880.06</td>\n",
       "    </tr>\n",
       "    <tr>\n",
       "      <th>198</th>\n",
       "      <td>19523.52</td>\n",
       "    </tr>\n",
       "    <tr>\n",
       "      <th>199</th>\n",
       "      <td>16236.60</td>\n",
       "    </tr>\n",
       "    <tr>\n",
       "      <th>200</th>\n",
       "      <td>17880.06</td>\n",
       "    </tr>\n",
       "  </tbody>\n",
       "</table>\n",
       "<p>201 rows × 1 columns</p>\n",
       "</div>"
      ],
      "text/plain": [
       "     used_price\n",
       "0      16236.60\n",
       "1      16236.60\n",
       "2      17058.33\n",
       "3      13771.41\n",
       "4      20345.25\n",
       "..          ...\n",
       "196    15414.87\n",
       "197    17880.06\n",
       "198    19523.52\n",
       "199    16236.60\n",
       "200    17880.06\n",
       "\n",
       "[201 rows x 1 columns]"
      ]
     },
     "execution_count": 140,
     "metadata": {},
     "output_type": "execute_result"
    }
   ],
   "source": [
    "price_used"
   ]
  },
  {
   "cell_type": "code",
   "execution_count": 141,
   "id": "40acd9f9",
   "metadata": {},
   "outputs": [],
   "source": [
    "# to merg the ued car price to the data from.\n",
    "df=pd.concat([df,price_used],axis=1)"
   ]
  },
  {
   "cell_type": "code",
   "execution_count": 145,
   "id": "3b97ea71",
   "metadata": {},
   "outputs": [],
   "source": [
    "df.drop(\"used_price\",axis=1,inplace=True)"
   ]
  },
  {
   "cell_type": "code",
   "execution_count": 146,
   "id": "aca4e506",
   "metadata": {},
   "outputs": [
    {
     "data": {
      "text/html": [
       "<div>\n",
       "<style scoped>\n",
       "    .dataframe tbody tr th:only-of-type {\n",
       "        vertical-align: middle;\n",
       "    }\n",
       "\n",
       "    .dataframe tbody tr th {\n",
       "        vertical-align: top;\n",
       "    }\n",
       "\n",
       "    .dataframe thead th {\n",
       "        text-align: right;\n",
       "    }\n",
       "</style>\n",
       "<table border=\"1\" class=\"dataframe\">\n",
       "  <thead>\n",
       "    <tr style=\"text-align: right;\">\n",
       "      <th></th>\n",
       "      <th>symboling</th>\n",
       "      <th>normalized-losses</th>\n",
       "      <th>make</th>\n",
       "      <th>aspiration</th>\n",
       "      <th>num-of-doors</th>\n",
       "      <th>body-style</th>\n",
       "      <th>drive-wheels</th>\n",
       "      <th>engine-location</th>\n",
       "      <th>wheel-base</th>\n",
       "      <th>length</th>\n",
       "      <th>...</th>\n",
       "      <th>compression-ratio</th>\n",
       "      <th>horsepower</th>\n",
       "      <th>peak-rpm</th>\n",
       "      <th>city-mpg</th>\n",
       "      <th>highway-mpg</th>\n",
       "      <th>price</th>\n",
       "      <th>city-L/100km</th>\n",
       "      <th>horsepower-binned</th>\n",
       "      <th>diesel</th>\n",
       "      <th>gas</th>\n",
       "    </tr>\n",
       "  </thead>\n",
       "  <tbody>\n",
       "    <tr>\n",
       "      <th>0</th>\n",
       "      <td>3</td>\n",
       "      <td>122</td>\n",
       "      <td>alfa-romero</td>\n",
       "      <td>std</td>\n",
       "      <td>two</td>\n",
       "      <td>convertible</td>\n",
       "      <td>rwd</td>\n",
       "      <td>front</td>\n",
       "      <td>88.6</td>\n",
       "      <td>0.811148</td>\n",
       "      <td>...</td>\n",
       "      <td>9.0</td>\n",
       "      <td>111.0</td>\n",
       "      <td>5000.0</td>\n",
       "      <td>21</td>\n",
       "      <td>27</td>\n",
       "      <td>13495.0</td>\n",
       "      <td>11.190476</td>\n",
       "      <td>Medium</td>\n",
       "      <td>0</td>\n",
       "      <td>1</td>\n",
       "    </tr>\n",
       "    <tr>\n",
       "      <th>1</th>\n",
       "      <td>3</td>\n",
       "      <td>122</td>\n",
       "      <td>alfa-romero</td>\n",
       "      <td>std</td>\n",
       "      <td>two</td>\n",
       "      <td>convertible</td>\n",
       "      <td>rwd</td>\n",
       "      <td>front</td>\n",
       "      <td>88.6</td>\n",
       "      <td>0.811148</td>\n",
       "      <td>...</td>\n",
       "      <td>9.0</td>\n",
       "      <td>111.0</td>\n",
       "      <td>5000.0</td>\n",
       "      <td>21</td>\n",
       "      <td>27</td>\n",
       "      <td>16500.0</td>\n",
       "      <td>11.190476</td>\n",
       "      <td>Medium</td>\n",
       "      <td>0</td>\n",
       "      <td>1</td>\n",
       "    </tr>\n",
       "    <tr>\n",
       "      <th>2</th>\n",
       "      <td>1</td>\n",
       "      <td>122</td>\n",
       "      <td>alfa-romero</td>\n",
       "      <td>std</td>\n",
       "      <td>two</td>\n",
       "      <td>hatchback</td>\n",
       "      <td>rwd</td>\n",
       "      <td>front</td>\n",
       "      <td>94.5</td>\n",
       "      <td>0.822681</td>\n",
       "      <td>...</td>\n",
       "      <td>9.0</td>\n",
       "      <td>154.0</td>\n",
       "      <td>5000.0</td>\n",
       "      <td>19</td>\n",
       "      <td>26</td>\n",
       "      <td>16500.0</td>\n",
       "      <td>12.368421</td>\n",
       "      <td>Medium</td>\n",
       "      <td>0</td>\n",
       "      <td>1</td>\n",
       "    </tr>\n",
       "    <tr>\n",
       "      <th>3</th>\n",
       "      <td>2</td>\n",
       "      <td>164</td>\n",
       "      <td>audi</td>\n",
       "      <td>std</td>\n",
       "      <td>four</td>\n",
       "      <td>sedan</td>\n",
       "      <td>fwd</td>\n",
       "      <td>front</td>\n",
       "      <td>99.8</td>\n",
       "      <td>0.848630</td>\n",
       "      <td>...</td>\n",
       "      <td>10.0</td>\n",
       "      <td>102.0</td>\n",
       "      <td>5500.0</td>\n",
       "      <td>24</td>\n",
       "      <td>30</td>\n",
       "      <td>13950.0</td>\n",
       "      <td>9.791667</td>\n",
       "      <td>Medium</td>\n",
       "      <td>0</td>\n",
       "      <td>1</td>\n",
       "    </tr>\n",
       "    <tr>\n",
       "      <th>4</th>\n",
       "      <td>2</td>\n",
       "      <td>164</td>\n",
       "      <td>audi</td>\n",
       "      <td>std</td>\n",
       "      <td>four</td>\n",
       "      <td>sedan</td>\n",
       "      <td>4wd</td>\n",
       "      <td>front</td>\n",
       "      <td>99.4</td>\n",
       "      <td>0.848630</td>\n",
       "      <td>...</td>\n",
       "      <td>8.0</td>\n",
       "      <td>115.0</td>\n",
       "      <td>5500.0</td>\n",
       "      <td>18</td>\n",
       "      <td>22</td>\n",
       "      <td>17450.0</td>\n",
       "      <td>13.055556</td>\n",
       "      <td>Medium</td>\n",
       "      <td>0</td>\n",
       "      <td>1</td>\n",
       "    </tr>\n",
       "    <tr>\n",
       "      <th>...</th>\n",
       "      <td>...</td>\n",
       "      <td>...</td>\n",
       "      <td>...</td>\n",
       "      <td>...</td>\n",
       "      <td>...</td>\n",
       "      <td>...</td>\n",
       "      <td>...</td>\n",
       "      <td>...</td>\n",
       "      <td>...</td>\n",
       "      <td>...</td>\n",
       "      <td>...</td>\n",
       "      <td>...</td>\n",
       "      <td>...</td>\n",
       "      <td>...</td>\n",
       "      <td>...</td>\n",
       "      <td>...</td>\n",
       "      <td>...</td>\n",
       "      <td>...</td>\n",
       "      <td>...</td>\n",
       "      <td>...</td>\n",
       "      <td>...</td>\n",
       "    </tr>\n",
       "    <tr>\n",
       "      <th>196</th>\n",
       "      <td>-1</td>\n",
       "      <td>95</td>\n",
       "      <td>volvo</td>\n",
       "      <td>std</td>\n",
       "      <td>four</td>\n",
       "      <td>sedan</td>\n",
       "      <td>rwd</td>\n",
       "      <td>front</td>\n",
       "      <td>109.1</td>\n",
       "      <td>0.907256</td>\n",
       "      <td>...</td>\n",
       "      <td>9.5</td>\n",
       "      <td>114.0</td>\n",
       "      <td>5400.0</td>\n",
       "      <td>23</td>\n",
       "      <td>28</td>\n",
       "      <td>16845.0</td>\n",
       "      <td>10.217391</td>\n",
       "      <td>Medium</td>\n",
       "      <td>0</td>\n",
       "      <td>1</td>\n",
       "    </tr>\n",
       "    <tr>\n",
       "      <th>197</th>\n",
       "      <td>-1</td>\n",
       "      <td>95</td>\n",
       "      <td>volvo</td>\n",
       "      <td>turbo</td>\n",
       "      <td>four</td>\n",
       "      <td>sedan</td>\n",
       "      <td>rwd</td>\n",
       "      <td>front</td>\n",
       "      <td>109.1</td>\n",
       "      <td>0.907256</td>\n",
       "      <td>...</td>\n",
       "      <td>8.7</td>\n",
       "      <td>160.0</td>\n",
       "      <td>5300.0</td>\n",
       "      <td>19</td>\n",
       "      <td>25</td>\n",
       "      <td>19045.0</td>\n",
       "      <td>12.368421</td>\n",
       "      <td>High</td>\n",
       "      <td>0</td>\n",
       "      <td>1</td>\n",
       "    </tr>\n",
       "    <tr>\n",
       "      <th>198</th>\n",
       "      <td>-1</td>\n",
       "      <td>95</td>\n",
       "      <td>volvo</td>\n",
       "      <td>std</td>\n",
       "      <td>four</td>\n",
       "      <td>sedan</td>\n",
       "      <td>rwd</td>\n",
       "      <td>front</td>\n",
       "      <td>109.1</td>\n",
       "      <td>0.907256</td>\n",
       "      <td>...</td>\n",
       "      <td>8.8</td>\n",
       "      <td>134.0</td>\n",
       "      <td>5500.0</td>\n",
       "      <td>18</td>\n",
       "      <td>23</td>\n",
       "      <td>21485.0</td>\n",
       "      <td>13.055556</td>\n",
       "      <td>Medium</td>\n",
       "      <td>0</td>\n",
       "      <td>1</td>\n",
       "    </tr>\n",
       "    <tr>\n",
       "      <th>199</th>\n",
       "      <td>-1</td>\n",
       "      <td>95</td>\n",
       "      <td>volvo</td>\n",
       "      <td>turbo</td>\n",
       "      <td>four</td>\n",
       "      <td>sedan</td>\n",
       "      <td>rwd</td>\n",
       "      <td>front</td>\n",
       "      <td>109.1</td>\n",
       "      <td>0.907256</td>\n",
       "      <td>...</td>\n",
       "      <td>23.0</td>\n",
       "      <td>106.0</td>\n",
       "      <td>4800.0</td>\n",
       "      <td>26</td>\n",
       "      <td>27</td>\n",
       "      <td>22470.0</td>\n",
       "      <td>9.038462</td>\n",
       "      <td>Medium</td>\n",
       "      <td>1</td>\n",
       "      <td>0</td>\n",
       "    </tr>\n",
       "    <tr>\n",
       "      <th>200</th>\n",
       "      <td>-1</td>\n",
       "      <td>95</td>\n",
       "      <td>volvo</td>\n",
       "      <td>turbo</td>\n",
       "      <td>four</td>\n",
       "      <td>sedan</td>\n",
       "      <td>rwd</td>\n",
       "      <td>front</td>\n",
       "      <td>109.1</td>\n",
       "      <td>0.907256</td>\n",
       "      <td>...</td>\n",
       "      <td>9.5</td>\n",
       "      <td>114.0</td>\n",
       "      <td>5400.0</td>\n",
       "      <td>19</td>\n",
       "      <td>25</td>\n",
       "      <td>22625.0</td>\n",
       "      <td>12.368421</td>\n",
       "      <td>Medium</td>\n",
       "      <td>0</td>\n",
       "      <td>1</td>\n",
       "    </tr>\n",
       "  </tbody>\n",
       "</table>\n",
       "<p>201 rows × 29 columns</p>\n",
       "</div>"
      ],
      "text/plain": [
       "     symboling  normalized-losses         make aspiration num-of-doors  \\\n",
       "0            3                122  alfa-romero        std          two   \n",
       "1            3                122  alfa-romero        std          two   \n",
       "2            1                122  alfa-romero        std          two   \n",
       "3            2                164         audi        std         four   \n",
       "4            2                164         audi        std         four   \n",
       "..         ...                ...          ...        ...          ...   \n",
       "196         -1                 95        volvo        std         four   \n",
       "197         -1                 95        volvo      turbo         four   \n",
       "198         -1                 95        volvo        std         four   \n",
       "199         -1                 95        volvo      turbo         four   \n",
       "200         -1                 95        volvo      turbo         four   \n",
       "\n",
       "      body-style drive-wheels engine-location  wheel-base    length  ...  \\\n",
       "0    convertible          rwd           front        88.6  0.811148  ...   \n",
       "1    convertible          rwd           front        88.6  0.811148  ...   \n",
       "2      hatchback          rwd           front        94.5  0.822681  ...   \n",
       "3          sedan          fwd           front        99.8  0.848630  ...   \n",
       "4          sedan          4wd           front        99.4  0.848630  ...   \n",
       "..           ...          ...             ...         ...       ...  ...   \n",
       "196        sedan          rwd           front       109.1  0.907256  ...   \n",
       "197        sedan          rwd           front       109.1  0.907256  ...   \n",
       "198        sedan          rwd           front       109.1  0.907256  ...   \n",
       "199        sedan          rwd           front       109.1  0.907256  ...   \n",
       "200        sedan          rwd           front       109.1  0.907256  ...   \n",
       "\n",
       "     compression-ratio  horsepower  peak-rpm city-mpg highway-mpg    price  \\\n",
       "0                  9.0       111.0    5000.0       21          27  13495.0   \n",
       "1                  9.0       111.0    5000.0       21          27  16500.0   \n",
       "2                  9.0       154.0    5000.0       19          26  16500.0   \n",
       "3                 10.0       102.0    5500.0       24          30  13950.0   \n",
       "4                  8.0       115.0    5500.0       18          22  17450.0   \n",
       "..                 ...         ...       ...      ...         ...      ...   \n",
       "196                9.5       114.0    5400.0       23          28  16845.0   \n",
       "197                8.7       160.0    5300.0       19          25  19045.0   \n",
       "198                8.8       134.0    5500.0       18          23  21485.0   \n",
       "199               23.0       106.0    4800.0       26          27  22470.0   \n",
       "200                9.5       114.0    5400.0       19          25  22625.0   \n",
       "\n",
       "    city-L/100km  horsepower-binned  diesel  gas  \n",
       "0      11.190476             Medium       0    1  \n",
       "1      11.190476             Medium       0    1  \n",
       "2      12.368421             Medium       0    1  \n",
       "3       9.791667             Medium       0    1  \n",
       "4      13.055556             Medium       0    1  \n",
       "..           ...                ...     ...  ...  \n",
       "196    10.217391             Medium       0    1  \n",
       "197    12.368421               High       0    1  \n",
       "198    13.055556             Medium       0    1  \n",
       "199     9.038462             Medium       1    0  \n",
       "200    12.368421             Medium       0    1  \n",
       "\n",
       "[201 rows x 29 columns]"
      ]
     },
     "execution_count": 146,
     "metadata": {},
     "output_type": "execute_result"
    }
   ],
   "source": [
    "df"
   ]
  },
  {
   "cell_type": "markdown",
   "id": "2e227bee",
   "metadata": {},
   "source": [
    "### Question for lab."
   ]
  },
  {
   "cell_type": "raw",
   "id": "c80060d0",
   "metadata": {},
   "source": [
    "### training model using engine-size to predict the price"
   ]
  },
  {
   "cell_type": "code",
   "execution_count": 160,
   "id": "ceec1f1d",
   "metadata": {},
   "outputs": [
    {
     "data": {
      "text/html": [
       "<style>#sk-container-id-5 {color: black;}#sk-container-id-5 pre{padding: 0;}#sk-container-id-5 div.sk-toggleable {background-color: white;}#sk-container-id-5 label.sk-toggleable__label {cursor: pointer;display: block;width: 100%;margin-bottom: 0;padding: 0.3em;box-sizing: border-box;text-align: center;}#sk-container-id-5 label.sk-toggleable__label-arrow:before {content: \"▸\";float: left;margin-right: 0.25em;color: #696969;}#sk-container-id-5 label.sk-toggleable__label-arrow:hover:before {color: black;}#sk-container-id-5 div.sk-estimator:hover label.sk-toggleable__label-arrow:before {color: black;}#sk-container-id-5 div.sk-toggleable__content {max-height: 0;max-width: 0;overflow: hidden;text-align: left;background-color: #f0f8ff;}#sk-container-id-5 div.sk-toggleable__content pre {margin: 0.2em;color: black;border-radius: 0.25em;background-color: #f0f8ff;}#sk-container-id-5 input.sk-toggleable__control:checked~div.sk-toggleable__content {max-height: 200px;max-width: 100%;overflow: auto;}#sk-container-id-5 input.sk-toggleable__control:checked~label.sk-toggleable__label-arrow:before {content: \"▾\";}#sk-container-id-5 div.sk-estimator input.sk-toggleable__control:checked~label.sk-toggleable__label {background-color: #d4ebff;}#sk-container-id-5 div.sk-label input.sk-toggleable__control:checked~label.sk-toggleable__label {background-color: #d4ebff;}#sk-container-id-5 input.sk-hidden--visually {border: 0;clip: rect(1px 1px 1px 1px);clip: rect(1px, 1px, 1px, 1px);height: 1px;margin: -1px;overflow: hidden;padding: 0;position: absolute;width: 1px;}#sk-container-id-5 div.sk-estimator {font-family: monospace;background-color: #f0f8ff;border: 1px dotted black;border-radius: 0.25em;box-sizing: border-box;margin-bottom: 0.5em;}#sk-container-id-5 div.sk-estimator:hover {background-color: #d4ebff;}#sk-container-id-5 div.sk-parallel-item::after {content: \"\";width: 100%;border-bottom: 1px solid gray;flex-grow: 1;}#sk-container-id-5 div.sk-label:hover label.sk-toggleable__label {background-color: #d4ebff;}#sk-container-id-5 div.sk-serial::before {content: \"\";position: absolute;border-left: 1px solid gray;box-sizing: border-box;top: 0;bottom: 0;left: 50%;z-index: 0;}#sk-container-id-5 div.sk-serial {display: flex;flex-direction: column;align-items: center;background-color: white;padding-right: 0.2em;padding-left: 0.2em;position: relative;}#sk-container-id-5 div.sk-item {position: relative;z-index: 1;}#sk-container-id-5 div.sk-parallel {display: flex;align-items: stretch;justify-content: center;background-color: white;position: relative;}#sk-container-id-5 div.sk-item::before, #sk-container-id-5 div.sk-parallel-item::before {content: \"\";position: absolute;border-left: 1px solid gray;box-sizing: border-box;top: 0;bottom: 0;left: 50%;z-index: -1;}#sk-container-id-5 div.sk-parallel-item {display: flex;flex-direction: column;z-index: 1;position: relative;background-color: white;}#sk-container-id-5 div.sk-parallel-item:first-child::after {align-self: flex-end;width: 50%;}#sk-container-id-5 div.sk-parallel-item:last-child::after {align-self: flex-start;width: 50%;}#sk-container-id-5 div.sk-parallel-item:only-child::after {width: 0;}#sk-container-id-5 div.sk-dashed-wrapped {border: 1px dashed gray;margin: 0 0.4em 0.5em 0.4em;box-sizing: border-box;padding-bottom: 0.4em;background-color: white;}#sk-container-id-5 div.sk-label label {font-family: monospace;font-weight: bold;display: inline-block;line-height: 1.2em;}#sk-container-id-5 div.sk-label-container {text-align: center;}#sk-container-id-5 div.sk-container {/* jupyter's `normalize.less` sets `[hidden] { display: none; }` but bootstrap.min.css set `[hidden] { display: none !important; }` so we also need the `!important` here to be able to override the default hidden behavior on the sphinx rendered scikit-learn.org. See: https://github.com/scikit-learn/scikit-learn/issues/21755 */display: inline-block !important;position: relative;}#sk-container-id-5 div.sk-text-repr-fallback {display: none;}</style><div id=\"sk-container-id-5\" class=\"sk-top-container\"><div class=\"sk-text-repr-fallback\"><pre>LinearRegression()</pre><b>In a Jupyter environment, please rerun this cell to show the HTML representation or trust the notebook. <br />On GitHub, the HTML representation is unable to render, please try loading this page with nbviewer.org.</b></div><div class=\"sk-container\" hidden><div class=\"sk-item\"><div class=\"sk-estimator sk-toggleable\"><input class=\"sk-toggleable__control sk-hidden--visually\" id=\"sk-estimator-id-5\" type=\"checkbox\" checked><label for=\"sk-estimator-id-5\" class=\"sk-toggleable__label sk-toggleable__label-arrow\">LinearRegression</label><div class=\"sk-toggleable__content\"><pre>LinearRegression()</pre></div></div></div></div></div>"
      ],
      "text/plain": [
       "LinearRegression()"
      ]
     },
     "execution_count": 160,
     "metadata": {},
     "output_type": "execute_result"
    }
   ],
   "source": [
    "# create model \n",
    "lm1=LinearRegression()\n",
    "lm1.fit(df[[\"engine-size\"]],\n",
    "       df[[\"price\"]])\n"
   ]
  },
  {
   "cell_type": "code",
   "execution_count": 161,
   "id": "4e5d3d33",
   "metadata": {},
   "outputs": [
    {
     "data": {
      "text/plain": [
       "array([-7963.33890628])"
      ]
     },
     "execution_count": 161,
     "metadata": {},
     "output_type": "execute_result"
    }
   ],
   "source": [
    "# find the slope and intercept\n",
    "lm1.intercept_"
   ]
  },
  {
   "cell_type": "code",
   "execution_count": 162,
   "id": "15a63394",
   "metadata": {},
   "outputs": [
    {
     "data": {
      "text/plain": [
       "array([[166.86001569]])"
      ]
     },
     "execution_count": 162,
     "metadata": {},
     "output_type": "execute_result"
    }
   ],
   "source": [
    "lm1.coef_"
   ]
  },
  {
   "cell_type": "code",
   "execution_count": 165,
   "id": "49e54e85",
   "metadata": {},
   "outputs": [
    {
     "data": {
      "text/plain": [
       "0      13728.46\n",
       "1      13728.46\n",
       "2      17399.38\n",
       "3      10224.40\n",
       "4      14729.62\n",
       "         ...   \n",
       "196    15563.92\n",
       "197    15563.92\n",
       "198    20903.44\n",
       "199    16231.36\n",
       "200    15563.92\n",
       "Name: engine-size, Length: 201, dtype: float64"
      ]
     },
     "execution_count": 165,
     "metadata": {},
     "output_type": "execute_result"
    }
   ],
   "source": [
    "#What is the equation of the predicted line? You can use x and yhat or \"engine-size\" or \"price\".\n",
    "yhat = -7963.33890628 + 166.86001569*df[\"engine-size\"]\n",
    "round(yhat,2) "
   ]
  },
  {
   "cell_type": "markdown",
   "id": "37059df6",
   "metadata": {},
   "source": [
    "## Multiple linear regression \"more realistic in the real world\""
   ]
  },
  {
   "cell_type": "code",
   "execution_count": 166,
   "id": "33cdf7b5",
   "metadata": {},
   "outputs": [],
   "source": [
    "# the equation for the multiple linear regression\n",
    "#yhat = a + b1x1+ b2x2+ b3x3+ b4x4\n",
    "#predictor_price = intercept_ + slope_1*indepentent_variabnle_1 "
   ]
  },
  {
   "cell_type": "code",
   "execution_count": 240,
   "id": "6db1e3d8",
   "metadata": {},
   "outputs": [
    {
     "name": "stdout",
     "output_type": "stream",
     "text": [
      "the column name :curb-weight\n",
      "Strong positive relationship with value: 0.8344145257702844\n",
      "--------------------------------------------------\n",
      "\n",
      "the column name :engine-size\n",
      "Strong positive relationship with value: 0.8723351674455185\n",
      "--------------------------------------------------\n",
      "\n",
      "the column name :horsepower\n",
      "Strong positive relationship with value: 0.809574567003656\n",
      "--------------------------------------------------\n",
      "\n",
      "the column name :highway-mpg\n",
      "Strong negative relationship with value: -0.704692265058953\n",
      "--------------------------------------------------\n",
      "\n",
      "the column name :price\n",
      "Strong positive relationship with value: 0.9999999999999999\n",
      "--------------------------------------------------\n",
      "\n"
     ]
    }
   ],
   "source": [
    "    def correla(dataset, target):\n",
    "        df_corre = dataset.select_dtypes(include=['float64','int64']) # to read only flaot and int\n",
    "        for column in df_corre.columns.values.tolist():\n",
    "            corre = df_corre[column].corr(df_corre[target])\n",
    "\n",
    "            if (1 > corre) & (corre > 0.8):\n",
    "                print(f\"the column name :{column}\")\n",
    "                print(f\"Strong positive relationship with value: {corre}\")\n",
    "                print(\"--------------------------------------------------\")\n",
    "                print(\"\")\n",
    "            elif (corre < -0.7) & (corre > -1):\n",
    "                print(f\"the column name :{column}\")\n",
    "                print(f\"Strong negative relationship with value: {corre}\" )\n",
    "                print(\"--------------------------------------------------\")\n",
    "                print(\"\")\n",
    "    #        else:\n",
    "    #            print(f\"the column name :{column}\")\n",
    "    #            print(f\"Not a strong correlation with value: {corre}\")\n",
    "    #            print(\"-----------------False---------------------\")\n",
    "    #            print(\"\")\n",
    "        return \n",
    "\n",
    "    # Example usage\n",
    "    correla(df, \"price\")\n"
   ]
  },
  {
   "cell_type": "code",
   "execution_count": 384,
   "id": "d20fbfe3",
   "metadata": {},
   "outputs": [],
   "source": [
    "# we have 4 columns has high corelationship in this data.\n",
    "Z = df[[\"curb-weight\",\"engine-size\",\"horsepower\",\"highway-mpg\"]]"
   ]
  },
  {
   "cell_type": "code",
   "execution_count": 385,
   "id": "c40031c6",
   "metadata": {},
   "outputs": [
    {
     "data": {
      "text/html": [
       "<style>#sk-container-id-10 {color: black;}#sk-container-id-10 pre{padding: 0;}#sk-container-id-10 div.sk-toggleable {background-color: white;}#sk-container-id-10 label.sk-toggleable__label {cursor: pointer;display: block;width: 100%;margin-bottom: 0;padding: 0.3em;box-sizing: border-box;text-align: center;}#sk-container-id-10 label.sk-toggleable__label-arrow:before {content: \"▸\";float: left;margin-right: 0.25em;color: #696969;}#sk-container-id-10 label.sk-toggleable__label-arrow:hover:before {color: black;}#sk-container-id-10 div.sk-estimator:hover label.sk-toggleable__label-arrow:before {color: black;}#sk-container-id-10 div.sk-toggleable__content {max-height: 0;max-width: 0;overflow: hidden;text-align: left;background-color: #f0f8ff;}#sk-container-id-10 div.sk-toggleable__content pre {margin: 0.2em;color: black;border-radius: 0.25em;background-color: #f0f8ff;}#sk-container-id-10 input.sk-toggleable__control:checked~div.sk-toggleable__content {max-height: 200px;max-width: 100%;overflow: auto;}#sk-container-id-10 input.sk-toggleable__control:checked~label.sk-toggleable__label-arrow:before {content: \"▾\";}#sk-container-id-10 div.sk-estimator input.sk-toggleable__control:checked~label.sk-toggleable__label {background-color: #d4ebff;}#sk-container-id-10 div.sk-label input.sk-toggleable__control:checked~label.sk-toggleable__label {background-color: #d4ebff;}#sk-container-id-10 input.sk-hidden--visually {border: 0;clip: rect(1px 1px 1px 1px);clip: rect(1px, 1px, 1px, 1px);height: 1px;margin: -1px;overflow: hidden;padding: 0;position: absolute;width: 1px;}#sk-container-id-10 div.sk-estimator {font-family: monospace;background-color: #f0f8ff;border: 1px dotted black;border-radius: 0.25em;box-sizing: border-box;margin-bottom: 0.5em;}#sk-container-id-10 div.sk-estimator:hover {background-color: #d4ebff;}#sk-container-id-10 div.sk-parallel-item::after {content: \"\";width: 100%;border-bottom: 1px solid gray;flex-grow: 1;}#sk-container-id-10 div.sk-label:hover label.sk-toggleable__label {background-color: #d4ebff;}#sk-container-id-10 div.sk-serial::before {content: \"\";position: absolute;border-left: 1px solid gray;box-sizing: border-box;top: 0;bottom: 0;left: 50%;z-index: 0;}#sk-container-id-10 div.sk-serial {display: flex;flex-direction: column;align-items: center;background-color: white;padding-right: 0.2em;padding-left: 0.2em;position: relative;}#sk-container-id-10 div.sk-item {position: relative;z-index: 1;}#sk-container-id-10 div.sk-parallel {display: flex;align-items: stretch;justify-content: center;background-color: white;position: relative;}#sk-container-id-10 div.sk-item::before, #sk-container-id-10 div.sk-parallel-item::before {content: \"\";position: absolute;border-left: 1px solid gray;box-sizing: border-box;top: 0;bottom: 0;left: 50%;z-index: -1;}#sk-container-id-10 div.sk-parallel-item {display: flex;flex-direction: column;z-index: 1;position: relative;background-color: white;}#sk-container-id-10 div.sk-parallel-item:first-child::after {align-self: flex-end;width: 50%;}#sk-container-id-10 div.sk-parallel-item:last-child::after {align-self: flex-start;width: 50%;}#sk-container-id-10 div.sk-parallel-item:only-child::after {width: 0;}#sk-container-id-10 div.sk-dashed-wrapped {border: 1px dashed gray;margin: 0 0.4em 0.5em 0.4em;box-sizing: border-box;padding-bottom: 0.4em;background-color: white;}#sk-container-id-10 div.sk-label label {font-family: monospace;font-weight: bold;display: inline-block;line-height: 1.2em;}#sk-container-id-10 div.sk-label-container {text-align: center;}#sk-container-id-10 div.sk-container {/* jupyter's `normalize.less` sets `[hidden] { display: none; }` but bootstrap.min.css set `[hidden] { display: none !important; }` so we also need the `!important` here to be able to override the default hidden behavior on the sphinx rendered scikit-learn.org. See: https://github.com/scikit-learn/scikit-learn/issues/21755 */display: inline-block !important;position: relative;}#sk-container-id-10 div.sk-text-repr-fallback {display: none;}</style><div id=\"sk-container-id-10\" class=\"sk-top-container\"><div class=\"sk-text-repr-fallback\"><pre>LinearRegression()</pre><b>In a Jupyter environment, please rerun this cell to show the HTML representation or trust the notebook. <br />On GitHub, the HTML representation is unable to render, please try loading this page with nbviewer.org.</b></div><div class=\"sk-container\" hidden><div class=\"sk-item\"><div class=\"sk-estimator sk-toggleable\"><input class=\"sk-toggleable__control sk-hidden--visually\" id=\"sk-estimator-id-10\" type=\"checkbox\" checked><label for=\"sk-estimator-id-10\" class=\"sk-toggleable__label sk-toggleable__label-arrow\">LinearRegression</label><div class=\"sk-toggleable__content\"><pre>LinearRegression()</pre></div></div></div></div></div>"
      ],
      "text/plain": [
       "LinearRegression()"
      ]
     },
     "execution_count": 385,
     "metadata": {},
     "output_type": "execute_result"
    }
   ],
   "source": [
    "# fit the linear model \n",
    "lm.fit(Z,df[\"price\"])"
   ]
  },
  {
   "cell_type": "code",
   "execution_count": 386,
   "id": "521fe95c",
   "metadata": {},
   "outputs": [
    {
     "data": {
      "text/plain": [
       "-15806.624626329227"
      ]
     },
     "execution_count": 386,
     "metadata": {},
     "output_type": "execute_result"
    }
   ],
   "source": [
    "# intercept value.\n",
    "intercept_df = lm.intercept_\n",
    "intercept_df"
   ]
  },
  {
   "cell_type": "code",
   "execution_count": 387,
   "id": "936c1bc4",
   "metadata": {},
   "outputs": [
    {
     "data": {
      "text/plain": [
       "array([ 4.70770099, 81.53026382, 53.49574423, 36.05748882])"
      ]
     },
     "execution_count": 387,
     "metadata": {},
     "output_type": "execute_result"
    }
   ],
   "source": [
    "# the value of coefficients.\n",
    "slope_df = lm.coef_\n",
    "slope_df"
   ]
  },
  {
   "cell_type": "code",
   "execution_count": 355,
   "id": "cd0a1f87",
   "metadata": {},
   "outputs": [],
   "source": [
    "#price_car = intercept_df + (slope_df[0] * Z[\"curb-weight\"] )\n",
    "#price_car\n",
    "def car_price(slope,intercept,var):\n",
    "    interc = float(intercept)\n",
    "    slope_1 = slope\n",
    "    var_df = var.columns.values.tolist()\n",
    "    final_price_car = 0\n",
    "    for slp, column in zip(slope_1, var_df):\n",
    "        price_car = interc + (slp * var[column])\n",
    "        final_price_car += price_car\n",
    "    print(f\" the car price {final_price_car}\")\n",
    "        "
   ]
  },
  {
   "cell_type": "code",
   "execution_count": 356,
   "id": "92616974",
   "metadata": {},
   "outputs": [
    {
     "name": "stdout",
     "output_type": "stream",
     "text": [
      " the car price 0     -33720.762267\n",
      "1     -33720.762267\n",
      "2     -28368.219177\n",
      "3     -36799.511949\n",
      "4     -31898.559677\n",
      "           ...     \n",
      "196   -30725.473442\n",
      "197   -27916.194677\n",
      "198   -26944.415499\n",
      "199   -29615.835066\n",
      "200   -30315.798799\n",
      "Name: curb-weight, Length: 201, dtype: float64\n"
     ]
    }
   ],
   "source": [
    "car_price(slope_df,intercept_df,Z)"
   ]
  },
  {
   "cell_type": "code",
   "execution_count": 357,
   "id": "4b5a7ba7",
   "metadata": {},
   "outputs": [
    {
     "data": {
      "text/plain": [
       "0     -3811.402492\n",
       "1     -3811.402492\n",
       "2     -2516.784719\n",
       "3     -4804.727402\n",
       "4     -2512.077018\n",
       "          ...     \n",
       "196   -1909.491290\n",
       "197   -1452.844294\n",
       "198   -1627.029231\n",
       "199    -661.950527\n",
       "200   -1391.644181\n",
       "Name: curb-weight, Length: 201, dtype: float64"
      ]
     },
     "execution_count": 357,
     "metadata": {},
     "output_type": "execute_result"
    }
   ],
   "source": [
    "price_car_1 = intercept_df + (slope_df[0] * Z[\"curb-weight\"] )\n",
    "price_car_1"
   ]
  },
  {
   "cell_type": "code",
   "execution_count": 358,
   "id": "44e7cca1",
   "metadata": {},
   "outputs": [],
   "source": [
    "lm_2=LinearRegression()"
   ]
  },
  {
   "cell_type": "code",
   "execution_count": 360,
   "id": "280e18f6",
   "metadata": {},
   "outputs": [
    {
     "data": {
      "text/html": [
       "<style>#sk-container-id-9 {color: black;}#sk-container-id-9 pre{padding: 0;}#sk-container-id-9 div.sk-toggleable {background-color: white;}#sk-container-id-9 label.sk-toggleable__label {cursor: pointer;display: block;width: 100%;margin-bottom: 0;padding: 0.3em;box-sizing: border-box;text-align: center;}#sk-container-id-9 label.sk-toggleable__label-arrow:before {content: \"▸\";float: left;margin-right: 0.25em;color: #696969;}#sk-container-id-9 label.sk-toggleable__label-arrow:hover:before {color: black;}#sk-container-id-9 div.sk-estimator:hover label.sk-toggleable__label-arrow:before {color: black;}#sk-container-id-9 div.sk-toggleable__content {max-height: 0;max-width: 0;overflow: hidden;text-align: left;background-color: #f0f8ff;}#sk-container-id-9 div.sk-toggleable__content pre {margin: 0.2em;color: black;border-radius: 0.25em;background-color: #f0f8ff;}#sk-container-id-9 input.sk-toggleable__control:checked~div.sk-toggleable__content {max-height: 200px;max-width: 100%;overflow: auto;}#sk-container-id-9 input.sk-toggleable__control:checked~label.sk-toggleable__label-arrow:before {content: \"▾\";}#sk-container-id-9 div.sk-estimator input.sk-toggleable__control:checked~label.sk-toggleable__label {background-color: #d4ebff;}#sk-container-id-9 div.sk-label input.sk-toggleable__control:checked~label.sk-toggleable__label {background-color: #d4ebff;}#sk-container-id-9 input.sk-hidden--visually {border: 0;clip: rect(1px 1px 1px 1px);clip: rect(1px, 1px, 1px, 1px);height: 1px;margin: -1px;overflow: hidden;padding: 0;position: absolute;width: 1px;}#sk-container-id-9 div.sk-estimator {font-family: monospace;background-color: #f0f8ff;border: 1px dotted black;border-radius: 0.25em;box-sizing: border-box;margin-bottom: 0.5em;}#sk-container-id-9 div.sk-estimator:hover {background-color: #d4ebff;}#sk-container-id-9 div.sk-parallel-item::after {content: \"\";width: 100%;border-bottom: 1px solid gray;flex-grow: 1;}#sk-container-id-9 div.sk-label:hover label.sk-toggleable__label {background-color: #d4ebff;}#sk-container-id-9 div.sk-serial::before {content: \"\";position: absolute;border-left: 1px solid gray;box-sizing: border-box;top: 0;bottom: 0;left: 50%;z-index: 0;}#sk-container-id-9 div.sk-serial {display: flex;flex-direction: column;align-items: center;background-color: white;padding-right: 0.2em;padding-left: 0.2em;position: relative;}#sk-container-id-9 div.sk-item {position: relative;z-index: 1;}#sk-container-id-9 div.sk-parallel {display: flex;align-items: stretch;justify-content: center;background-color: white;position: relative;}#sk-container-id-9 div.sk-item::before, #sk-container-id-9 div.sk-parallel-item::before {content: \"\";position: absolute;border-left: 1px solid gray;box-sizing: border-box;top: 0;bottom: 0;left: 50%;z-index: -1;}#sk-container-id-9 div.sk-parallel-item {display: flex;flex-direction: column;z-index: 1;position: relative;background-color: white;}#sk-container-id-9 div.sk-parallel-item:first-child::after {align-self: flex-end;width: 50%;}#sk-container-id-9 div.sk-parallel-item:last-child::after {align-self: flex-start;width: 50%;}#sk-container-id-9 div.sk-parallel-item:only-child::after {width: 0;}#sk-container-id-9 div.sk-dashed-wrapped {border: 1px dashed gray;margin: 0 0.4em 0.5em 0.4em;box-sizing: border-box;padding-bottom: 0.4em;background-color: white;}#sk-container-id-9 div.sk-label label {font-family: monospace;font-weight: bold;display: inline-block;line-height: 1.2em;}#sk-container-id-9 div.sk-label-container {text-align: center;}#sk-container-id-9 div.sk-container {/* jupyter's `normalize.less` sets `[hidden] { display: none; }` but bootstrap.min.css set `[hidden] { display: none !important; }` so we also need the `!important` here to be able to override the default hidden behavior on the sphinx rendered scikit-learn.org. See: https://github.com/scikit-learn/scikit-learn/issues/21755 */display: inline-block !important;position: relative;}#sk-container-id-9 div.sk-text-repr-fallback {display: none;}</style><div id=\"sk-container-id-9\" class=\"sk-top-container\"><div class=\"sk-text-repr-fallback\"><pre>LinearRegression()</pre><b>In a Jupyter environment, please rerun this cell to show the HTML representation or trust the notebook. <br />On GitHub, the HTML representation is unable to render, please try loading this page with nbviewer.org.</b></div><div class=\"sk-container\" hidden><div class=\"sk-item\"><div class=\"sk-estimator sk-toggleable\"><input class=\"sk-toggleable__control sk-hidden--visually\" id=\"sk-estimator-id-9\" type=\"checkbox\" checked><label for=\"sk-estimator-id-9\" class=\"sk-toggleable__label sk-toggleable__label-arrow\">LinearRegression</label><div class=\"sk-toggleable__content\"><pre>LinearRegression()</pre></div></div></div></div></div>"
      ],
      "text/plain": [
       "LinearRegression()"
      ]
     },
     "execution_count": 360,
     "metadata": {},
     "output_type": "execute_result"
    }
   ],
   "source": [
    "lm_2.fit(df[[\"normalized-losses\",\"highway-mpg\"]],df[\"price\"])"
   ]
  },
  {
   "cell_type": "code",
   "execution_count": 361,
   "id": "e02d6c6b",
   "metadata": {},
   "outputs": [
    {
     "data": {
      "text/plain": [
       "array([   1.49789586, -820.45434016])"
      ]
     },
     "execution_count": 361,
     "metadata": {},
     "output_type": "execute_result"
    }
   ],
   "source": [
    "# finf coefficin of the model.\n",
    "lm_2.coef_"
   ]
  },
  {
   "cell_type": "code",
   "execution_count": 362,
   "id": "925c2984",
   "metadata": {},
   "outputs": [
    {
     "data": {
      "text/plain": [
       "38201.31327245727"
      ]
     },
     "execution_count": 362,
     "metadata": {},
     "output_type": "execute_result"
    }
   ],
   "source": [
    "lm_2.intercept_"
   ]
  },
  {
   "cell_type": "markdown",
   "id": "c49964a6",
   "metadata": {},
   "source": [
    "## Regression plot "
   ]
  },
  {
   "cell_type": "code",
   "execution_count": 365,
   "id": "fe8a174a",
   "metadata": {},
   "outputs": [
    {
     "data": {
      "text/plain": [
       "(0.0, 48179.49106469868)"
      ]
     },
     "execution_count": 365,
     "metadata": {},
     "output_type": "execute_result"
    },
    {
     "data": {
      "image/png": "[encoded data removed]",
      "text/plain": [
       "<Figure size 900x600 with 1 Axes>"
      ]
     },
     "metadata": {},
     "output_type": "display_data"
    }
   ],
   "source": [
    "# visulaize the highway-mpg as potential prodictor of price.\n",
    "width = 9\n",
    "hight = 6\n",
    "plt.figure(figsize=(width,hight))\n",
    "sns.regplot(x=\"highway-mpg\",y=\"price\",data=df)\n",
    "plt.ylim(0,)"
   ]
  },
  {
   "cell_type": "code",
   "execution_count": 366,
   "id": "49859302",
   "metadata": {},
   "outputs": [
    {
     "data": {
      "text/plain": [
       "(0.0, 47414.1)"
      ]
     },
     "execution_count": 366,
     "metadata": {},
     "output_type": "execute_result"
    },
    {
     "data": {
      "image/png": "[encoded data removed]",
      "text/plain": [
       "<Figure size 900x600 with 1 Axes>"
      ]
     },
     "metadata": {},
     "output_type": "display_data"
    }
   ],
   "source": [
    "# create the regression plot pf peak-rpm\n",
    "width = 9\n",
    "hight = 6\n",
    "plt.figure(figsize=(width,hight))\n",
    "sns.regplot(x=\"peak-rpm\",y=\"price\",data=df)\n",
    "plt.ylim(0,)"
   ]
  },
  {
   "cell_type": "code",
   "execution_count": 370,
   "id": "6a8b1bed",
   "metadata": {},
   "outputs": [
    {
     "data": {
      "text/html": [
       "<div>\n",
       "<style scoped>\n",
       "    .dataframe tbody tr th:only-of-type {\n",
       "        vertical-align: middle;\n",
       "    }\n",
       "\n",
       "    .dataframe tbody tr th {\n",
       "        vertical-align: top;\n",
       "    }\n",
       "\n",
       "    .dataframe thead th {\n",
       "        text-align: right;\n",
       "    }\n",
       "</style>\n",
       "<table border=\"1\" class=\"dataframe\">\n",
       "  <thead>\n",
       "    <tr style=\"text-align: right;\">\n",
       "      <th></th>\n",
       "      <th>peak-rpm</th>\n",
       "      <th>highway-mpg</th>\n",
       "      <th>price</th>\n",
       "    </tr>\n",
       "  </thead>\n",
       "  <tbody>\n",
       "    <tr>\n",
       "      <th>peak-rpm</th>\n",
       "      <td>1.000000</td>\n",
       "      <td>-0.058598</td>\n",
       "      <td>-0.101616</td>\n",
       "    </tr>\n",
       "    <tr>\n",
       "      <th>highway-mpg</th>\n",
       "      <td>-0.058598</td>\n",
       "      <td>1.000000</td>\n",
       "      <td>-0.704692</td>\n",
       "    </tr>\n",
       "    <tr>\n",
       "      <th>price</th>\n",
       "      <td>-0.101616</td>\n",
       "      <td>-0.704692</td>\n",
       "      <td>1.000000</td>\n",
       "    </tr>\n",
       "  </tbody>\n",
       "</table>\n",
       "</div>"
      ],
      "text/plain": [
       "             peak-rpm  highway-mpg     price\n",
       "peak-rpm     1.000000    -0.058598 -0.101616\n",
       "highway-mpg -0.058598     1.000000 -0.704692\n",
       "price       -0.101616    -0.704692  1.000000"
      ]
     },
     "execution_count": 370,
     "metadata": {},
     "output_type": "execute_result"
    }
   ],
   "source": [
    "# which of the variable \"peak-rpm\" \" highway-mpg\" more stronges corelated to the price.\n",
    "df[[\"peak-rpm\",\"highway-mpg\",\"price\"]].corr()"
   ]
  },
  {
   "cell_type": "markdown",
   "id": "25ea37f3",
   "metadata": {},
   "source": [
    "# Residual plot"
   ]
  },
  {
   "cell_type": "code",
   "execution_count": 371,
   "id": "69d3444c",
   "metadata": {},
   "outputs": [
    {
     "data": {
      "image/png": "[encoded data removed]",
      "text/plain": [
       "<Figure size 900x600 with 1 Axes>"
      ]
     },
     "metadata": {},
     "output_type": "display_data"
    }
   ],
   "source": [
    "# we can drow the first residual plot\n",
    "width = 9 \n",
    "height = 6\n",
    "plt.figure(figsize=(width,height))\n",
    "sns.residplot(x=df[\"highway-mpg\"],y=df[\"price\"])\n",
    "plt.show()\n"
   ]
  },
  {
   "cell_type": "code",
   "execution_count": 395,
   "id": "ca16c455",
   "metadata": {},
   "outputs": [],
   "source": [
    "# this funcation just for extract the missing value from the table or dataset \n",
    "# for columns each separately\n",
    "def missingVal(dataset):\n",
    "    data_null = dataset.isnull()\n",
    "    for column in data_null.columns.values.tolist():\n",
    "        # sum the number of column which is has null value.\n",
    "        null_count = data_null[column].sum()\n",
    "        if null_count > 0:\n",
    "            print(f\"column name : {column}\")\n",
    "            print(f\"null count : {null_count}\")\n",
    "            print(f\"non - null count : {len(dataset) - null_count}\")\n",
    "            print(f\"type of data : {dataset[column].dtype}\")\n",
    "            print(\"\")\n",
    "        else:\n",
    "            print(f\" the column name : {column}\")\n",
    "            print(\"not data Missing\")\n",
    "    return \n"
   ]
  },
  {
   "cell_type": "code",
   "execution_count": 397,
   "id": "91a45055",
   "metadata": {},
   "outputs": [
    {
     "name": "stdout",
     "output_type": "stream",
     "text": [
      " the column name : curb-weight\n",
      "not data Missing\n",
      " the column name : engine-size\n",
      "not data Missing\n",
      " the column name : horsepower\n",
      "not data Missing\n",
      " the column name : highway-mpg\n",
      "not data Missing\n"
     ]
    }
   ],
   "source": [
    "# there is no missing data Exist  in Z .\n",
    "missingVal(Z)"
   ]
  },
  {
   "cell_type": "code",
   "execution_count": 396,
   "id": "2c1ca705",
   "metadata": {},
   "outputs": [],
   "source": [
    "# the only way to check the fit model is look at the distribution plot and compare it with actual value.\n",
    "Yhat = lm.predict(Z)"
   ]
  },
  {
   "cell_type": "code",
   "execution_count": 398,
   "id": "d7e30b12",
   "metadata": {},
   "outputs": [
    {
     "name": "stderr",
     "output_type": "stream",
     "text": [
      "C:\\Users\\Mohamed Asharf\\AppData\\Local\\Temp\\ipykernel_46620\\3651648408.py:4: UserWarning: \n",
      "\n",
      "`distplot` is a deprecated function and will be removed in seaborn v0.14.0.\n",
      "\n",
      "Please adapt your code to use either `displot` (a figure-level function with\n",
      "similar flexibility) or `kdeplot` (an axes-level function for kernel density plots).\n",
      "\n",
      "For a guide to updating your code to use the new functions, please see\n",
      "https://gist.github.com/mwaskom/de44147ed2974457ad6372750bbe5751\n",
      "\n",
      "  ax1 = sns.distplot(df[\"price\"],hist=False, color=\"r\",label=\"Actual Value\")\n",
      "C:\\Users\\Mohamed Asharf\\AppData\\Local\\Temp\\ipykernel_46620\\3651648408.py:6: UserWarning: \n",
      "\n",
      "`distplot` is a deprecated function and will be removed in seaborn v0.14.0.\n",
      "\n",
      "Please adapt your code to use either `displot` (a figure-level function with\n",
      "similar flexibility) or `kdeplot` (an axes-level function for kernel density plots).\n",
      "\n",
      "For a guide to updating your code to use the new functions, please see\n",
      "https://gist.github.com/mwaskom/de44147ed2974457ad6372750bbe5751\n",
      "\n",
      "  sns.distplot(Yhat,hist=False, color=\"b\",label=\"Fitted Value\",ax=ax1)\n"
     ]
    },
    {
     "data": {
      "image/png": "[encoded data removed]",
      "text/plain": [
       "<Figure size 900x600 with 1 Axes>"
      ]
     },
     "metadata": {},
     "output_type": "display_data"
    }
   ],
   "source": [
    "# indentfing the width and height.\n",
    "plt.figure(figsize=(width,height))\n",
    "# create teh distrbution for actual value.\n",
    "ax1 = sns.distplot(df[\"price\"],hist=False, color=\"r\",label=\"Actual Value\")\n",
    "# and then i can create distribution for the fitted value. and make the color broun.\n",
    "sns.distplot(Yhat,hist=False, color=\"b\",label=\"Fitted Value\",ax=ax1)\n",
    "plt.title(\"actule and fitted value for price\")\n",
    "plt.xlabel(\"price in US dollers\")\n",
    "plt.ylabel(\" proprotion of the Cars the number of car in each range of price\")\n",
    "plt.show()\n",
    "plt.close()\n"
   ]
  },
  {
   "cell_type": "code",
   "execution_count": 508,
   "id": "1c24d0e8",
   "metadata": {},
   "outputs": [],
   "source": [
    "def PlotPolly(model, independent_variable, dependent_variabble, Name):\n",
    "    # this is part to drowing the pipline length to cover all the x-axis\n",
    "    x_new = np.linspace(15, 55, 100)  # the num  is the number of seteps in between the range of linspace.\n",
    "    y_new = model(x_new) # \n",
    "\n",
    "    plt.plot(independent_variable, dependent_variabble, '.', x_new, y_new, '-')\n",
    "    plt.title('Polynomial Fit with Matplotlib for Price ~ Length')\n",
    "    ax = plt.gca() # this is for acciss to backgroup of graph.\n",
    "    ax.set_facecolor((0.898, 0.898, 0.898)) # the color of  it background.\n",
    "    fig = plt.gcf()\n",
    "    plt.xlabel(Name)\n",
    "    plt.ylabel('Price of Cars')\n",
    "\n",
    "    plt.show()\n",
    "    plt.close()"
   ]
  },
  {
   "cell_type": "code",
   "execution_count": 512,
   "id": "ba0cea51",
   "metadata": {},
   "outputs": [],
   "source": [
    "x = df['highway-mpg']\n",
    "y = df['price']"
   ]
  },
  {
   "cell_type": "code",
   "execution_count": 513,
   "id": "e941db3c",
   "metadata": {},
   "outputs": [
    {
     "name": "stdout",
     "output_type": "stream",
     "text": [
      "        3         2\n",
      "-1.557 x + 204.8 x - 8965 x + 1.379e+05\n"
     ]
    }
   ],
   "source": [
    "# Here we use a polynomial of the 3rd order (cubic) \n",
    "f = np.polyfit(x, y, 3)\n",
    "p = np.poly1d(f) # to read f value as one dimantion \"one line\".\n",
    "print(p)"
   ]
  },
  {
   "cell_type": "code",
   "execution_count": 514,
   "id": "05fa5614",
   "metadata": {},
   "outputs": [
    {
     "data": {
      "image/png": "[encoded data removed]",
      "text/plain": [
       "<Figure size 640x480 with 1 Axes>"
      ]
     },
     "metadata": {},
     "output_type": "display_data"
    }
   ],
   "source": [
    "# explaination for this funcation..\n",
    "# p = this for drowing cubic polynomial pipline in the plot.\n",
    "# x = independed variable\n",
    "# y = dependent variable \n",
    "# name = the data of y axis (independent vargiable)\n",
    "PlotPolly(p, x, y, 'highway-mpg')"
   ]
  },
  {
   "cell_type": "code",
   "execution_count": 516,
   "id": "0f3f893e",
   "metadata": {},
   "outputs": [
    {
     "name": "stdout",
     "output_type": "stream",
     "text": [
      "[-1.24263380e-08  4.72184851e-06 -8.02843411e-04  8.05640232e-02\n",
      " -5.29740934e+00  2.39470307e+02 -7.58845671e+03  1.68447238e+05\n",
      " -2.56531128e+06  2.55140598e+07 -1.49106950e+08  3.87930048e+08]\n"
     ]
    }
   ],
   "source": [
    "# create 11 order polynomial model with the the same variable above.\n",
    "f = np.polyfit(x,y,11)\n",
    "p = np.poly1d(f)\n",
    "print(f)"
   ]
  },
  {
   "cell_type": "markdown",
   "id": "9acc7136",
   "metadata": {},
   "source": [
    "PlotPolly(p,x,y,\"highway-mpg\")"
   ]
  },
  {
   "cell_type": "code",
   "execution_count": 518,
   "id": "2a82e414",
   "metadata": {},
   "outputs": [],
   "source": [
    "# import the model of multivariate polynomial funcation\n",
    "from sklearn.preprocessing import PolynomialFeatures"
   ]
  },
  {
   "cell_type": "code",
   "execution_count": 519,
   "id": "f57e8084",
   "metadata": {},
   "outputs": [
    {
     "data": {
      "text/html": [
       "<style>#sk-container-id-11 {color: black;}#sk-container-id-11 pre{padding: 0;}#sk-container-id-11 div.sk-toggleable {background-color: white;}#sk-container-id-11 label.sk-toggleable__label {cursor: pointer;display: block;width: 100%;margin-bottom: 0;padding: 0.3em;box-sizing: border-box;text-align: center;}#sk-container-id-11 label.sk-toggleable__label-arrow:before {content: \"▸\";float: left;margin-right: 0.25em;color: #696969;}#sk-container-id-11 label.sk-toggleable__label-arrow:hover:before {color: black;}#sk-container-id-11 div.sk-estimator:hover label.sk-toggleable__label-arrow:before {color: black;}#sk-container-id-11 div.sk-toggleable__content {max-height: 0;max-width: 0;overflow: hidden;text-align: left;background-color: #f0f8ff;}#sk-container-id-11 div.sk-toggleable__content pre {margin: 0.2em;color: black;border-radius: 0.25em;background-color: #f0f8ff;}#sk-container-id-11 input.sk-toggleable__control:checked~div.sk-toggleable__content {max-height: 200px;max-width: 100%;overflow: auto;}#sk-container-id-11 input.sk-toggleable__control:checked~label.sk-toggleable__label-arrow:before {content: \"▾\";}#sk-container-id-11 div.sk-estimator input.sk-toggleable__control:checked~label.sk-toggleable__label {background-color: #d4ebff;}#sk-container-id-11 div.sk-label input.sk-toggleable__control:checked~label.sk-toggleable__label {background-color: #d4ebff;}#sk-container-id-11 input.sk-hidden--visually {border: 0;clip: rect(1px 1px 1px 1px);clip: rect(1px, 1px, 1px, 1px);height: 1px;margin: -1px;overflow: hidden;padding: 0;position: absolute;width: 1px;}#sk-container-id-11 div.sk-estimator {font-family: monospace;background-color: #f0f8ff;border: 1px dotted black;border-radius: 0.25em;box-sizing: border-box;margin-bottom: 0.5em;}#sk-container-id-11 div.sk-estimator:hover {background-color: #d4ebff;}#sk-container-id-11 div.sk-parallel-item::after {content: \"\";width: 100%;border-bottom: 1px solid gray;flex-grow: 1;}#sk-container-id-11 div.sk-label:hover label.sk-toggleable__label {background-color: #d4ebff;}#sk-container-id-11 div.sk-serial::before {content: \"\";position: absolute;border-left: 1px solid gray;box-sizing: border-box;top: 0;bottom: 0;left: 50%;z-index: 0;}#sk-container-id-11 div.sk-serial {display: flex;flex-direction: column;align-items: center;background-color: white;padding-right: 0.2em;padding-left: 0.2em;position: relative;}#sk-container-id-11 div.sk-item {position: relative;z-index: 1;}#sk-container-id-11 div.sk-parallel {display: flex;align-items: stretch;justify-content: center;background-color: white;position: relative;}#sk-container-id-11 div.sk-item::before, #sk-container-id-11 div.sk-parallel-item::before {content: \"\";position: absolute;border-left: 1px solid gray;box-sizing: border-box;top: 0;bottom: 0;left: 50%;z-index: -1;}#sk-container-id-11 div.sk-parallel-item {display: flex;flex-direction: column;z-index: 1;position: relative;background-color: white;}#sk-container-id-11 div.sk-parallel-item:first-child::after {align-self: flex-end;width: 50%;}#sk-container-id-11 div.sk-parallel-item:last-child::after {align-self: flex-start;width: 50%;}#sk-container-id-11 div.sk-parallel-item:only-child::after {width: 0;}#sk-container-id-11 div.sk-dashed-wrapped {border: 1px dashed gray;margin: 0 0.4em 0.5em 0.4em;box-sizing: border-box;padding-bottom: 0.4em;background-color: white;}#sk-container-id-11 div.sk-label label {font-family: monospace;font-weight: bold;display: inline-block;line-height: 1.2em;}#sk-container-id-11 div.sk-label-container {text-align: center;}#sk-container-id-11 div.sk-container {/* jupyter's `normalize.less` sets `[hidden] { display: none; }` but bootstrap.min.css set `[hidden] { display: none !important; }` so we also need the `!important` here to be able to override the default hidden behavior on the sphinx rendered scikit-learn.org. See: https://github.com/scikit-learn/scikit-learn/issues/21755 */display: inline-block !important;position: relative;}#sk-container-id-11 div.sk-text-repr-fallback {display: none;}</style><div id=\"sk-container-id-11\" class=\"sk-top-container\"><div class=\"sk-text-repr-fallback\"><pre>PolynomialFeatures()</pre><b>In a Jupyter environment, please rerun this cell to show the HTML representation or trust the notebook. <br />On GitHub, the HTML representation is unable to render, please try loading this page with nbviewer.org.</b></div><div class=\"sk-container\" hidden><div class=\"sk-item\"><div class=\"sk-estimator sk-toggleable\"><input class=\"sk-toggleable__control sk-hidden--visually\" id=\"sk-estimator-id-11\" type=\"checkbox\" checked><label for=\"sk-estimator-id-11\" class=\"sk-toggleable__label sk-toggleable__label-arrow\">PolynomialFeatures</label><div class=\"sk-toggleable__content\"><pre>PolynomialFeatures()</pre></div></div></div></div></div>"
      ],
      "text/plain": [
       "PolynomialFeatures()"
      ]
     },
     "execution_count": 519,
     "metadata": {},
     "output_type": "execute_result"
    }
   ],
   "source": [
    "# create polynominal feature with 2 degrees\n",
    "pr=PolynomialFeatures(degree=2)\n",
    "pr"
   ]
  },
  {
   "cell_type": "code",
   "execution_count": 521,
   "id": "a19f7c77",
   "metadata": {},
   "outputs": [],
   "source": [
    "Z_pr=pr.fit_transform(Z)"
   ]
  },
  {
   "cell_type": "code",
   "execution_count": 523,
   "id": "2ea055c1",
   "metadata": {},
   "outputs": [
    {
     "data": {
      "text/plain": [
       "(201, 4)"
      ]
     },
     "execution_count": 523,
     "metadata": {},
     "output_type": "execute_result"
    }
   ],
   "source": [
    "# in the original data we have 201 sample and 4 features.\n",
    "Z.shape"
   ]
  },
  {
   "cell_type": "code",
   "execution_count": 524,
   "id": "fa7b215c",
   "metadata": {},
   "outputs": [
    {
     "data": {
      "text/plain": [
       "(201, 15)"
      ]
     },
     "execution_count": 524,
     "metadata": {},
     "output_type": "execute_result"
    }
   ],
   "source": [
    "Z_pr.shape"
   ]
  },
  {
   "cell_type": "code",
   "execution_count": 531,
   "id": "6891ddb6",
   "metadata": {},
   "outputs": [],
   "source": [
    "# the pipline is steps of prossessing the data import libirery.\n",
    "from sklearn.pipeline import Pipeline\n",
    "from sklearn.preprocessing import StandardScaler"
   ]
  },
  {
   "cell_type": "code",
   "execution_count": 534,
   "id": "ae837af3",
   "metadata": {},
   "outputs": [],
   "source": [
    "# we can create pipeline toa list of the tables.\n",
    "Input = [('scale',StandardScaler()),('polynomial',PolynomialFeatures(include_bias=False)),('model',LinearRegression())] "
   ]
  },
  {
   "cell_type": "code",
   "execution_count": 537,
   "id": "871848ff",
   "metadata": {},
   "outputs": [
    {
     "data": {
      "text/html": [
       "<style>#sk-container-id-12 {color: black;}#sk-container-id-12 pre{padding: 0;}#sk-container-id-12 div.sk-toggleable {background-color: white;}#sk-container-id-12 label.sk-toggleable__label {cursor: pointer;display: block;width: 100%;margin-bottom: 0;padding: 0.3em;box-sizing: border-box;text-align: center;}#sk-container-id-12 label.sk-toggleable__label-arrow:before {content: \"▸\";float: left;margin-right: 0.25em;color: #696969;}#sk-container-id-12 label.sk-toggleable__label-arrow:hover:before {color: black;}#sk-container-id-12 div.sk-estimator:hover label.sk-toggleable__label-arrow:before {color: black;}#sk-container-id-12 div.sk-toggleable__content {max-height: 0;max-width: 0;overflow: hidden;text-align: left;background-color: #f0f8ff;}#sk-container-id-12 div.sk-toggleable__content pre {margin: 0.2em;color: black;border-radius: 0.25em;background-color: #f0f8ff;}#sk-container-id-12 input.sk-toggleable__control:checked~div.sk-toggleable__content {max-height: 200px;max-width: 100%;overflow: auto;}#sk-container-id-12 input.sk-toggleable__control:checked~label.sk-toggleable__label-arrow:before {content: \"▾\";}#sk-container-id-12 div.sk-estimator input.sk-toggleable__control:checked~label.sk-toggleable__label {background-color: #d4ebff;}#sk-container-id-12 div.sk-label input.sk-toggleable__control:checked~label.sk-toggleable__label {background-color: #d4ebff;}#sk-container-id-12 input.sk-hidden--visually {border: 0;clip: rect(1px 1px 1px 1px);clip: rect(1px, 1px, 1px, 1px);height: 1px;margin: -1px;overflow: hidden;padding: 0;position: absolute;width: 1px;}#sk-container-id-12 div.sk-estimator {font-family: monospace;background-color: #f0f8ff;border: 1px dotted black;border-radius: 0.25em;box-sizing: border-box;margin-bottom: 0.5em;}#sk-container-id-12 div.sk-estimator:hover {background-color: #d4ebff;}#sk-container-id-12 div.sk-parallel-item::after {content: \"\";width: 100%;border-bottom: 1px solid gray;flex-grow: 1;}#sk-container-id-12 div.sk-label:hover label.sk-toggleable__label {background-color: #d4ebff;}#sk-container-id-12 div.sk-serial::before {content: \"\";position: absolute;border-left: 1px solid gray;box-sizing: border-box;top: 0;bottom: 0;left: 50%;z-index: 0;}#sk-container-id-12 div.sk-serial {display: flex;flex-direction: column;align-items: center;background-color: white;padding-right: 0.2em;padding-left: 0.2em;position: relative;}#sk-container-id-12 div.sk-item {position: relative;z-index: 1;}#sk-container-id-12 div.sk-parallel {display: flex;align-items: stretch;justify-content: center;background-color: white;position: relative;}#sk-container-id-12 div.sk-item::before, #sk-container-id-12 div.sk-parallel-item::before {content: \"\";position: absolute;border-left: 1px solid gray;box-sizing: border-box;top: 0;bottom: 0;left: 50%;z-index: -1;}#sk-container-id-12 div.sk-parallel-item {display: flex;flex-direction: column;z-index: 1;position: relative;background-color: white;}#sk-container-id-12 div.sk-parallel-item:first-child::after {align-self: flex-end;width: 50%;}#sk-container-id-12 div.sk-parallel-item:last-child::after {align-self: flex-start;width: 50%;}#sk-container-id-12 div.sk-parallel-item:only-child::after {width: 0;}#sk-container-id-12 div.sk-dashed-wrapped {border: 1px dashed gray;margin: 0 0.4em 0.5em 0.4em;box-sizing: border-box;padding-bottom: 0.4em;background-color: white;}#sk-container-id-12 div.sk-label label {font-family: monospace;font-weight: bold;display: inline-block;line-height: 1.2em;}#sk-container-id-12 div.sk-label-container {text-align: center;}#sk-container-id-12 div.sk-container {/* jupyter's `normalize.less` sets `[hidden] { display: none; }` but bootstrap.min.css set `[hidden] { display: none !important; }` so we also need the `!important` here to be able to override the default hidden behavior on the sphinx rendered scikit-learn.org. See: https://github.com/scikit-learn/scikit-learn/issues/21755 */display: inline-block !important;position: relative;}#sk-container-id-12 div.sk-text-repr-fallback {display: none;}</style><div id=\"sk-container-id-12\" class=\"sk-top-container\"><div class=\"sk-text-repr-fallback\"><pre>Pipeline(steps=[(&#x27;scale&#x27;, StandardScaler()),\n",
       "                (&#x27;polynomial&#x27;, PolynomialFeatures(include_bias=False)),\n",
       "                (&#x27;model&#x27;, LinearRegression())])</pre><b>In a Jupyter environment, please rerun this cell to show the HTML representation or trust the notebook. <br />On GitHub, the HTML representation is unable to render, please try loading this page with nbviewer.org.</b></div><div class=\"sk-container\" hidden><div class=\"sk-item sk-dashed-wrapped\"><div class=\"sk-label-container\"><div class=\"sk-label sk-toggleable\"><input class=\"sk-toggleable__control sk-hidden--visually\" id=\"sk-estimator-id-12\" type=\"checkbox\" ><label for=\"sk-estimator-id-12\" class=\"sk-toggleable__label sk-toggleable__label-arrow\">Pipeline</label><div class=\"sk-toggleable__content\"><pre>Pipeline(steps=[(&#x27;scale&#x27;, StandardScaler()),\n",
       "                (&#x27;polynomial&#x27;, PolynomialFeatures(include_bias=False)),\n",
       "                (&#x27;model&#x27;, LinearRegression())])</pre></div></div></div><div class=\"sk-serial\"><div class=\"sk-item\"><div class=\"sk-estimator sk-toggleable\"><input class=\"sk-toggleable__control sk-hidden--visually\" id=\"sk-estimator-id-13\" type=\"checkbox\" ><label for=\"sk-estimator-id-13\" class=\"sk-toggleable__label sk-toggleable__label-arrow\">StandardScaler</label><div class=\"sk-toggleable__content\"><pre>StandardScaler()</pre></div></div></div><div class=\"sk-item\"><div class=\"sk-estimator sk-toggleable\"><input class=\"sk-toggleable__control sk-hidden--visually\" id=\"sk-estimator-id-14\" type=\"checkbox\" ><label for=\"sk-estimator-id-14\" class=\"sk-toggleable__label sk-toggleable__label-arrow\">PolynomialFeatures</label><div class=\"sk-toggleable__content\"><pre>PolynomialFeatures(include_bias=False)</pre></div></div></div><div class=\"sk-item\"><div class=\"sk-estimator sk-toggleable\"><input class=\"sk-toggleable__control sk-hidden--visually\" id=\"sk-estimator-id-15\" type=\"checkbox\" ><label for=\"sk-estimator-id-15\" class=\"sk-toggleable__label sk-toggleable__label-arrow\">LinearRegression</label><div class=\"sk-toggleable__content\"><pre>LinearRegression()</pre></div></div></div></div></div></div></div>"
      ],
      "text/plain": [
       "Pipeline(steps=[('scale', StandardScaler()),\n",
       "                ('polynomial', PolynomialFeatures(include_bias=False)),\n",
       "                ('model', LinearRegression())])"
      ]
     },
     "execution_count": 537,
     "metadata": {},
     "output_type": "execute_result"
    }
   ],
   "source": [
    "# we put the list as argument pipeling\n",
    "pipe = Pipeline(Input)\n",
    "pipe"
   ]
  },
  {
   "cell_type": "code",
   "execution_count": 539,
   "id": "50fd0d8f",
   "metadata": {},
   "outputs": [
    {
     "data": {
      "text/html": [
       "<style>#sk-container-id-13 {color: black;}#sk-container-id-13 pre{padding: 0;}#sk-container-id-13 div.sk-toggleable {background-color: white;}#sk-container-id-13 label.sk-toggleable__label {cursor: pointer;display: block;width: 100%;margin-bottom: 0;padding: 0.3em;box-sizing: border-box;text-align: center;}#sk-container-id-13 label.sk-toggleable__label-arrow:before {content: \"▸\";float: left;margin-right: 0.25em;color: #696969;}#sk-container-id-13 label.sk-toggleable__label-arrow:hover:before {color: black;}#sk-container-id-13 div.sk-estimator:hover label.sk-toggleable__label-arrow:before {color: black;}#sk-container-id-13 div.sk-toggleable__content {max-height: 0;max-width: 0;overflow: hidden;text-align: left;background-color: #f0f8ff;}#sk-container-id-13 div.sk-toggleable__content pre {margin: 0.2em;color: black;border-radius: 0.25em;background-color: #f0f8ff;}#sk-container-id-13 input.sk-toggleable__control:checked~div.sk-toggleable__content {max-height: 200px;max-width: 100%;overflow: auto;}#sk-container-id-13 input.sk-toggleable__control:checked~label.sk-toggleable__label-arrow:before {content: \"▾\";}#sk-container-id-13 div.sk-estimator input.sk-toggleable__control:checked~label.sk-toggleable__label {background-color: #d4ebff;}#sk-container-id-13 div.sk-label input.sk-toggleable__control:checked~label.sk-toggleable__label {background-color: #d4ebff;}#sk-container-id-13 input.sk-hidden--visually {border: 0;clip: rect(1px 1px 1px 1px);clip: rect(1px, 1px, 1px, 1px);height: 1px;margin: -1px;overflow: hidden;padding: 0;position: absolute;width: 1px;}#sk-container-id-13 div.sk-estimator {font-family: monospace;background-color: #f0f8ff;border: 1px dotted black;border-radius: 0.25em;box-sizing: border-box;margin-bottom: 0.5em;}#sk-container-id-13 div.sk-estimator:hover {background-color: #d4ebff;}#sk-container-id-13 div.sk-parallel-item::after {content: \"\";width: 100%;border-bottom: 1px solid gray;flex-grow: 1;}#sk-container-id-13 div.sk-label:hover label.sk-toggleable__label {background-color: #d4ebff;}#sk-container-id-13 div.sk-serial::before {content: \"\";position: absolute;border-left: 1px solid gray;box-sizing: border-box;top: 0;bottom: 0;left: 50%;z-index: 0;}#sk-container-id-13 div.sk-serial {display: flex;flex-direction: column;align-items: center;background-color: white;padding-right: 0.2em;padding-left: 0.2em;position: relative;}#sk-container-id-13 div.sk-item {position: relative;z-index: 1;}#sk-container-id-13 div.sk-parallel {display: flex;align-items: stretch;justify-content: center;background-color: white;position: relative;}#sk-container-id-13 div.sk-item::before, #sk-container-id-13 div.sk-parallel-item::before {content: \"\";position: absolute;border-left: 1px solid gray;box-sizing: border-box;top: 0;bottom: 0;left: 50%;z-index: -1;}#sk-container-id-13 div.sk-parallel-item {display: flex;flex-direction: column;z-index: 1;position: relative;background-color: white;}#sk-container-id-13 div.sk-parallel-item:first-child::after {align-self: flex-end;width: 50%;}#sk-container-id-13 div.sk-parallel-item:last-child::after {align-self: flex-start;width: 50%;}#sk-container-id-13 div.sk-parallel-item:only-child::after {width: 0;}#sk-container-id-13 div.sk-dashed-wrapped {border: 1px dashed gray;margin: 0 0.4em 0.5em 0.4em;box-sizing: border-box;padding-bottom: 0.4em;background-color: white;}#sk-container-id-13 div.sk-label label {font-family: monospace;font-weight: bold;display: inline-block;line-height: 1.2em;}#sk-container-id-13 div.sk-label-container {text-align: center;}#sk-container-id-13 div.sk-container {/* jupyter's `normalize.less` sets `[hidden] { display: none; }` but bootstrap.min.css set `[hidden] { display: none !important; }` so we also need the `!important` here to be able to override the default hidden behavior on the sphinx rendered scikit-learn.org. See: https://github.com/scikit-learn/scikit-learn/issues/21755 */display: inline-block !important;position: relative;}#sk-container-id-13 div.sk-text-repr-fallback {display: none;}</style><div id=\"sk-container-id-13\" class=\"sk-top-container\"><div class=\"sk-text-repr-fallback\"><pre>Pipeline(steps=[(&#x27;scale&#x27;, StandardScaler()),\n",
       "                (&#x27;polynomial&#x27;, PolynomialFeatures(include_bias=False)),\n",
       "                (&#x27;model&#x27;, LinearRegression())])</pre><b>In a Jupyter environment, please rerun this cell to show the HTML representation or trust the notebook. <br />On GitHub, the HTML representation is unable to render, please try loading this page with nbviewer.org.</b></div><div class=\"sk-container\" hidden><div class=\"sk-item sk-dashed-wrapped\"><div class=\"sk-label-container\"><div class=\"sk-label sk-toggleable\"><input class=\"sk-toggleable__control sk-hidden--visually\" id=\"sk-estimator-id-16\" type=\"checkbox\" ><label for=\"sk-estimator-id-16\" class=\"sk-toggleable__label sk-toggleable__label-arrow\">Pipeline</label><div class=\"sk-toggleable__content\"><pre>Pipeline(steps=[(&#x27;scale&#x27;, StandardScaler()),\n",
       "                (&#x27;polynomial&#x27;, PolynomialFeatures(include_bias=False)),\n",
       "                (&#x27;model&#x27;, LinearRegression())])</pre></div></div></div><div class=\"sk-serial\"><div class=\"sk-item\"><div class=\"sk-estimator sk-toggleable\"><input class=\"sk-toggleable__control sk-hidden--visually\" id=\"sk-estimator-id-17\" type=\"checkbox\" ><label for=\"sk-estimator-id-17\" class=\"sk-toggleable__label sk-toggleable__label-arrow\">StandardScaler</label><div class=\"sk-toggleable__content\"><pre>StandardScaler()</pre></div></div></div><div class=\"sk-item\"><div class=\"sk-estimator sk-toggleable\"><input class=\"sk-toggleable__control sk-hidden--visually\" id=\"sk-estimator-id-18\" type=\"checkbox\" ><label for=\"sk-estimator-id-18\" class=\"sk-toggleable__label sk-toggleable__label-arrow\">PolynomialFeatures</label><div class=\"sk-toggleable__content\"><pre>PolynomialFeatures(include_bias=False)</pre></div></div></div><div class=\"sk-item\"><div class=\"sk-estimator sk-toggleable\"><input class=\"sk-toggleable__control sk-hidden--visually\" id=\"sk-estimator-id-19\" type=\"checkbox\" ><label for=\"sk-estimator-id-19\" class=\"sk-toggleable__label sk-toggleable__label-arrow\">LinearRegression</label><div class=\"sk-toggleable__content\"><pre>LinearRegression()</pre></div></div></div></div></div></div></div>"
      ],
      "text/plain": [
       "Pipeline(steps=[('scale', StandardScaler()),\n",
       "                ('polynomial', PolynomialFeatures(include_bias=False)),\n",
       "                ('model', LinearRegression())])"
      ]
     },
     "execution_count": 539,
     "metadata": {},
     "output_type": "execute_result"
    }
   ],
   "source": [
    "# we can convert the data type to float to avoid any converting issue.\n",
    "Z =Z.astype(float)\n",
    "pipe.fit(Z,y) # Z = the independent variable mulitple linear regression. y= dependent variable \"price\"\n"
   ]
  },
  {
   "cell_type": "code",
   "execution_count": 542,
   "id": "3e7da62d",
   "metadata": {},
   "outputs": [
    {
     "data": {
      "text/plain": [
       "array([13102.74784201, 13102.74784201, 18225.54572197, 10390.29636555])"
      ]
     },
     "execution_count": 542,
     "metadata": {},
     "output_type": "execute_result"
    }
   ],
   "source": [
    "# we can nurmalize the data and preforme the transformation.\n",
    "ypipe = pipe.predict(Z)\n",
    "ypipe[0:4]"
   ]
  },
  {
   "cell_type": "code",
   "execution_count": 559,
   "id": "52a6a9f3",
   "metadata": {},
   "outputs": [
    {
     "data": {
      "text/plain": [
       "[('scale', StandardScaler()), ('model', LinearRegression())]"
      ]
     },
     "execution_count": 559,
     "metadata": {},
     "output_type": "execute_result"
    }
   ],
   "source": [
    "## question... craete pipeline standerdizes teh data to preduce a prediction and lineregression.\n",
    "Input_1 = [('scale',StandardScaler()),('model',LinearRegression())]\n",
    "Input_1"
   ]
  },
  {
   "cell_type": "code",
   "execution_count": 560,
   "id": "afa863b7",
   "metadata": {},
   "outputs": [
    {
     "data": {
      "text/html": [
       "<style>#sk-container-id-17 {color: black;}#sk-container-id-17 pre{padding: 0;}#sk-container-id-17 div.sk-toggleable {background-color: white;}#sk-container-id-17 label.sk-toggleable__label {cursor: pointer;display: block;width: 100%;margin-bottom: 0;padding: 0.3em;box-sizing: border-box;text-align: center;}#sk-container-id-17 label.sk-toggleable__label-arrow:before {content: \"▸\";float: left;margin-right: 0.25em;color: #696969;}#sk-container-id-17 label.sk-toggleable__label-arrow:hover:before {color: black;}#sk-container-id-17 div.sk-estimator:hover label.sk-toggleable__label-arrow:before {color: black;}#sk-container-id-17 div.sk-toggleable__content {max-height: 0;max-width: 0;overflow: hidden;text-align: left;background-color: #f0f8ff;}#sk-container-id-17 div.sk-toggleable__content pre {margin: 0.2em;color: black;border-radius: 0.25em;background-color: #f0f8ff;}#sk-container-id-17 input.sk-toggleable__control:checked~div.sk-toggleable__content {max-height: 200px;max-width: 100%;overflow: auto;}#sk-container-id-17 input.sk-toggleable__control:checked~label.sk-toggleable__label-arrow:before {content: \"▾\";}#sk-container-id-17 div.sk-estimator input.sk-toggleable__control:checked~label.sk-toggleable__label {background-color: #d4ebff;}#sk-container-id-17 div.sk-label input.sk-toggleable__control:checked~label.sk-toggleable__label {background-color: #d4ebff;}#sk-container-id-17 input.sk-hidden--visually {border: 0;clip: rect(1px 1px 1px 1px);clip: rect(1px, 1px, 1px, 1px);height: 1px;margin: -1px;overflow: hidden;padding: 0;position: absolute;width: 1px;}#sk-container-id-17 div.sk-estimator {font-family: monospace;background-color: #f0f8ff;border: 1px dotted black;border-radius: 0.25em;box-sizing: border-box;margin-bottom: 0.5em;}#sk-container-id-17 div.sk-estimator:hover {background-color: #d4ebff;}#sk-container-id-17 div.sk-parallel-item::after {content: \"\";width: 100%;border-bottom: 1px solid gray;flex-grow: 1;}#sk-container-id-17 div.sk-label:hover label.sk-toggleable__label {background-color: #d4ebff;}#sk-container-id-17 div.sk-serial::before {content: \"\";position: absolute;border-left: 1px solid gray;box-sizing: border-box;top: 0;bottom: 0;left: 50%;z-index: 0;}#sk-container-id-17 div.sk-serial {display: flex;flex-direction: column;align-items: center;background-color: white;padding-right: 0.2em;padding-left: 0.2em;position: relative;}#sk-container-id-17 div.sk-item {position: relative;z-index: 1;}#sk-container-id-17 div.sk-parallel {display: flex;align-items: stretch;justify-content: center;background-color: white;position: relative;}#sk-container-id-17 div.sk-item::before, #sk-container-id-17 div.sk-parallel-item::before {content: \"\";position: absolute;border-left: 1px solid gray;box-sizing: border-box;top: 0;bottom: 0;left: 50%;z-index: -1;}#sk-container-id-17 div.sk-parallel-item {display: flex;flex-direction: column;z-index: 1;position: relative;background-color: white;}#sk-container-id-17 div.sk-parallel-item:first-child::after {align-self: flex-end;width: 50%;}#sk-container-id-17 div.sk-parallel-item:last-child::after {align-self: flex-start;width: 50%;}#sk-container-id-17 div.sk-parallel-item:only-child::after {width: 0;}#sk-container-id-17 div.sk-dashed-wrapped {border: 1px dashed gray;margin: 0 0.4em 0.5em 0.4em;box-sizing: border-box;padding-bottom: 0.4em;background-color: white;}#sk-container-id-17 div.sk-label label {font-family: monospace;font-weight: bold;display: inline-block;line-height: 1.2em;}#sk-container-id-17 div.sk-label-container {text-align: center;}#sk-container-id-17 div.sk-container {/* jupyter's `normalize.less` sets `[hidden] { display: none; }` but bootstrap.min.css set `[hidden] { display: none !important; }` so we also need the `!important` here to be able to override the default hidden behavior on the sphinx rendered scikit-learn.org. See: https://github.com/scikit-learn/scikit-learn/issues/21755 */display: inline-block !important;position: relative;}#sk-container-id-17 div.sk-text-repr-fallback {display: none;}</style><div id=\"sk-container-id-17\" class=\"sk-top-container\"><div class=\"sk-text-repr-fallback\"><pre>Pipeline(steps=[(&#x27;scale&#x27;, StandardScaler()), (&#x27;model&#x27;, LinearRegression())])</pre><b>In a Jupyter environment, please rerun this cell to show the HTML representation or trust the notebook. <br />On GitHub, the HTML representation is unable to render, please try loading this page with nbviewer.org.</b></div><div class=\"sk-container\" hidden><div class=\"sk-item sk-dashed-wrapped\"><div class=\"sk-label-container\"><div class=\"sk-label sk-toggleable\"><input class=\"sk-toggleable__control sk-hidden--visually\" id=\"sk-estimator-id-23\" type=\"checkbox\" ><label for=\"sk-estimator-id-23\" class=\"sk-toggleable__label sk-toggleable__label-arrow\">Pipeline</label><div class=\"sk-toggleable__content\"><pre>Pipeline(steps=[(&#x27;scale&#x27;, StandardScaler()), (&#x27;model&#x27;, LinearRegression())])</pre></div></div></div><div class=\"sk-serial\"><div class=\"sk-item\"><div class=\"sk-estimator sk-toggleable\"><input class=\"sk-toggleable__control sk-hidden--visually\" id=\"sk-estimator-id-24\" type=\"checkbox\" ><label for=\"sk-estimator-id-24\" class=\"sk-toggleable__label sk-toggleable__label-arrow\">StandardScaler</label><div class=\"sk-toggleable__content\"><pre>StandardScaler()</pre></div></div></div><div class=\"sk-item\"><div class=\"sk-estimator sk-toggleable\"><input class=\"sk-toggleable__control sk-hidden--visually\" id=\"sk-estimator-id-25\" type=\"checkbox\" ><label for=\"sk-estimator-id-25\" class=\"sk-toggleable__label sk-toggleable__label-arrow\">LinearRegression</label><div class=\"sk-toggleable__content\"><pre>LinearRegression()</pre></div></div></div></div></div></div></div>"
      ],
      "text/plain": [
       "Pipeline(steps=[('scale', StandardScaler()), ('model', LinearRegression())])"
      ]
     },
     "execution_count": 560,
     "metadata": {},
     "output_type": "execute_result"
    }
   ],
   "source": [
    "# list argument pipeline.\n",
    "pipe_1 = Pipeline(Input_1)\n",
    "pipe_1"
   ]
  },
  {
   "cell_type": "code",
   "execution_count": 562,
   "id": "0f036c35",
   "metadata": {},
   "outputs": [
    {
     "data": {
      "text/html": [
       "<style>#sk-container-id-18 {color: black;}#sk-container-id-18 pre{padding: 0;}#sk-container-id-18 div.sk-toggleable {background-color: white;}#sk-container-id-18 label.sk-toggleable__label {cursor: pointer;display: block;width: 100%;margin-bottom: 0;padding: 0.3em;box-sizing: border-box;text-align: center;}#sk-container-id-18 label.sk-toggleable__label-arrow:before {content: \"▸\";float: left;margin-right: 0.25em;color: #696969;}#sk-container-id-18 label.sk-toggleable__label-arrow:hover:before {color: black;}#sk-container-id-18 div.sk-estimator:hover label.sk-toggleable__label-arrow:before {color: black;}#sk-container-id-18 div.sk-toggleable__content {max-height: 0;max-width: 0;overflow: hidden;text-align: left;background-color: #f0f8ff;}#sk-container-id-18 div.sk-toggleable__content pre {margin: 0.2em;color: black;border-radius: 0.25em;background-color: #f0f8ff;}#sk-container-id-18 input.sk-toggleable__control:checked~div.sk-toggleable__content {max-height: 200px;max-width: 100%;overflow: auto;}#sk-container-id-18 input.sk-toggleable__control:checked~label.sk-toggleable__label-arrow:before {content: \"▾\";}#sk-container-id-18 div.sk-estimator input.sk-toggleable__control:checked~label.sk-toggleable__label {background-color: #d4ebff;}#sk-container-id-18 div.sk-label input.sk-toggleable__control:checked~label.sk-toggleable__label {background-color: #d4ebff;}#sk-container-id-18 input.sk-hidden--visually {border: 0;clip: rect(1px 1px 1px 1px);clip: rect(1px, 1px, 1px, 1px);height: 1px;margin: -1px;overflow: hidden;padding: 0;position: absolute;width: 1px;}#sk-container-id-18 div.sk-estimator {font-family: monospace;background-color: #f0f8ff;border: 1px dotted black;border-radius: 0.25em;box-sizing: border-box;margin-bottom: 0.5em;}#sk-container-id-18 div.sk-estimator:hover {background-color: #d4ebff;}#sk-container-id-18 div.sk-parallel-item::after {content: \"\";width: 100%;border-bottom: 1px solid gray;flex-grow: 1;}#sk-container-id-18 div.sk-label:hover label.sk-toggleable__label {background-color: #d4ebff;}#sk-container-id-18 div.sk-serial::before {content: \"\";position: absolute;border-left: 1px solid gray;box-sizing: border-box;top: 0;bottom: 0;left: 50%;z-index: 0;}#sk-container-id-18 div.sk-serial {display: flex;flex-direction: column;align-items: center;background-color: white;padding-right: 0.2em;padding-left: 0.2em;position: relative;}#sk-container-id-18 div.sk-item {position: relative;z-index: 1;}#sk-container-id-18 div.sk-parallel {display: flex;align-items: stretch;justify-content: center;background-color: white;position: relative;}#sk-container-id-18 div.sk-item::before, #sk-container-id-18 div.sk-parallel-item::before {content: \"\";position: absolute;border-left: 1px solid gray;box-sizing: border-box;top: 0;bottom: 0;left: 50%;z-index: -1;}#sk-container-id-18 div.sk-parallel-item {display: flex;flex-direction: column;z-index: 1;position: relative;background-color: white;}#sk-container-id-18 div.sk-parallel-item:first-child::after {align-self: flex-end;width: 50%;}#sk-container-id-18 div.sk-parallel-item:last-child::after {align-self: flex-start;width: 50%;}#sk-container-id-18 div.sk-parallel-item:only-child::after {width: 0;}#sk-container-id-18 div.sk-dashed-wrapped {border: 1px dashed gray;margin: 0 0.4em 0.5em 0.4em;box-sizing: border-box;padding-bottom: 0.4em;background-color: white;}#sk-container-id-18 div.sk-label label {font-family: monospace;font-weight: bold;display: inline-block;line-height: 1.2em;}#sk-container-id-18 div.sk-label-container {text-align: center;}#sk-container-id-18 div.sk-container {/* jupyter's `normalize.less` sets `[hidden] { display: none; }` but bootstrap.min.css set `[hidden] { display: none !important; }` so we also need the `!important` here to be able to override the default hidden behavior on the sphinx rendered scikit-learn.org. See: https://github.com/scikit-learn/scikit-learn/issues/21755 */display: inline-block !important;position: relative;}#sk-container-id-18 div.sk-text-repr-fallback {display: none;}</style><div id=\"sk-container-id-18\" class=\"sk-top-container\"><div class=\"sk-text-repr-fallback\"><pre>Pipeline(steps=[(&#x27;scale&#x27;, StandardScaler()), (&#x27;model&#x27;, LinearRegression())])</pre><b>In a Jupyter environment, please rerun this cell to show the HTML representation or trust the notebook. <br />On GitHub, the HTML representation is unable to render, please try loading this page with nbviewer.org.</b></div><div class=\"sk-container\" hidden><div class=\"sk-item sk-dashed-wrapped\"><div class=\"sk-label-container\"><div class=\"sk-label sk-toggleable\"><input class=\"sk-toggleable__control sk-hidden--visually\" id=\"sk-estimator-id-26\" type=\"checkbox\" ><label for=\"sk-estimator-id-26\" class=\"sk-toggleable__label sk-toggleable__label-arrow\">Pipeline</label><div class=\"sk-toggleable__content\"><pre>Pipeline(steps=[(&#x27;scale&#x27;, StandardScaler()), (&#x27;model&#x27;, LinearRegression())])</pre></div></div></div><div class=\"sk-serial\"><div class=\"sk-item\"><div class=\"sk-estimator sk-toggleable\"><input class=\"sk-toggleable__control sk-hidden--visually\" id=\"sk-estimator-id-27\" type=\"checkbox\" ><label for=\"sk-estimator-id-27\" class=\"sk-toggleable__label sk-toggleable__label-arrow\">StandardScaler</label><div class=\"sk-toggleable__content\"><pre>StandardScaler()</pre></div></div></div><div class=\"sk-item\"><div class=\"sk-estimator sk-toggleable\"><input class=\"sk-toggleable__control sk-hidden--visually\" id=\"sk-estimator-id-28\" type=\"checkbox\" ><label for=\"sk-estimator-id-28\" class=\"sk-toggleable__label sk-toggleable__label-arrow\">LinearRegression</label><div class=\"sk-toggleable__content\"><pre>LinearRegression()</pre></div></div></div></div></div></div></div>"
      ],
      "text/plain": [
       "Pipeline(steps=[('scale', StandardScaler()), ('model', LinearRegression())])"
      ]
     },
     "execution_count": 562,
     "metadata": {},
     "output_type": "execute_result"
    }
   ],
   "source": [
    "#pipe_1.fit(Z,y)\n",
    "pipe_1.fit(Z,y)"
   ]
  },
  {
   "cell_type": "code",
   "execution_count": 567,
   "id": "f4bddf9b",
   "metadata": {},
   "outputs": [
    {
     "data": {
      "text/plain": [
       "array([13699.11161184, 13699.11161184, 19051.65470233, 10620.36193015,\n",
       "       15521.31420211, 13869.66673213, 15456.16196732, 15974.00907672,\n",
       "       17612.35917161, 10722.32509097])"
      ]
     },
     "execution_count": 567,
     "metadata": {},
     "output_type": "execute_result"
    }
   ],
   "source": [
    "ypipe = pipe_1.predict(Z)\n",
    "ypipe[0:10]"
   ]
  },
  {
   "cell_type": "markdown",
   "id": "52624cf2",
   "metadata": {},
   "source": [
    "## maesure in-sample Eveluations"
   ]
  },
  {
   "cell_type": "code",
   "execution_count": 572,
   "id": "a0097c68",
   "metadata": {},
   "outputs": [
    {
     "name": "stdout",
     "output_type": "stream",
     "text": [
      "the r-Square is:  0.4965911884339175\n"
     ]
    }
   ],
   "source": [
    "# sample linear regression.\n",
    "lm.fit(x,y)\n",
    "# to find the R^2\n",
    "print(\"the r-Square is: \", lm.score(x,y))"
   ]
  },
  {
   "cell_type": "code",
   "execution_count": 575,
   "id": "18e0b8bf",
   "metadata": {},
   "outputs": [
    {
     "name": "stdout",
     "output_type": "stream",
     "text": [
      "The output of the first four predicted value is:  [13699.11161184 13699.11161184 19051.65470233 10620.36193015]\n"
     ]
    }
   ],
   "source": [
    "# we can prodict the output.\n",
    "yhat = lm.predict(x)\n",
    "print('The output of the first four predicted value is: ', Yhat[0:4])"
   ]
  },
  {
   "cell_type": "markdown",
   "id": "09d59df5",
   "metadata": {},
   "source": [
    "### import funcation mean squared errer"
   ]
  },
  {
   "cell_type": "code",
   "execution_count": 576,
   "id": "58fbe7e8",
   "metadata": {},
   "outputs": [],
   "source": [
    "from sklearn.metrics import mean_squared_error"
   ]
  },
  {
   "cell_type": "code",
   "execution_count": 578,
   "id": "12605fd8",
   "metadata": {},
   "outputs": [
    {
     "name": "stdout",
     "output_type": "stream",
     "text": [
      "the mean squated error of price and predicted value is: 31635042.944639895\n"
     ]
    }
   ],
   "source": [
    "# with this funcation we can compare the predict result with the actual result of price.\n",
    "mse = mean_squared_error(df[\"price\"],yhat)\n",
    "print(f\"the mean squated error of price and predicted value is: {mse}\")\n",
    "# THE heigher Mse value represent the heigher error compared bwtween the actual value and predited value.\n"
   ]
  },
  {
   "cell_type": "markdown",
   "id": "ddc942bb",
   "metadata": {},
   "source": [
    "#### use MSE with multipale linear regressions."
   ]
  },
  {
   "cell_type": "code",
   "execution_count": 580,
   "id": "1538c41c",
   "metadata": {},
   "outputs": [
    {
     "name": "stdout",
     "output_type": "stream",
     "text": [
      "the R-squared is : {0.8093562806577457}\n"
     ]
    }
   ],
   "source": [
    "# fit the model.\n",
    "lm.fit(Z,df[\"price\"])\n",
    "# find R^2.\n",
    "print(f\"the R-squared is :\", {lm.score(Z,df[\"price\"])})"
   ]
  },
  {
   "cell_type": "code",
   "execution_count": 586,
   "id": "19eb6438",
   "metadata": {},
   "outputs": [
    {
     "data": {
      "text/plain": [
       "array([13699.11161184, 13699.11161184, 19051.65470233, 10620.36193015,\n",
       "       15521.31420211, 13869.66673213, 15456.16196732, 15974.00907672,\n",
       "       17612.35917161, 10722.32509097, 10722.32509097, 17804.80307397,\n",
       "       18063.72662867, 19320.78745066, 26968.56492801, 27674.72007721,\n",
       "       28191.0677239 ,   650.62317688,  5648.50489642,  5813.27443123,\n",
       "        5478.81383232,  5370.64136587,  8739.61952024,  5799.04215638,\n",
       "        5902.61157827,  5902.61157827,  9036.2046829 , 11863.43973759,\n",
       "       18767.70667001,  4808.3090102 ,  5693.32889063,  4006.47212651,\n",
       "        6118.73075572,  6194.05397163,  6448.26982534,  6514.17763926,\n",
       "        9478.65495235,  9728.16310506,  9798.77861998, 10118.90228761,\n",
       "       11178.86719942, 10423.81935057,  9463.46710755, 12626.61544369,\n",
       "       34470.03895495, 34470.03895495, 43996.52260522,  5265.67702191,\n",
       "        5565.15645357,  5588.69495854,  5777.00299832,  5800.5415033 ,\n",
       "        7337.21461795,  7337.21461795,  7360.75312292, 10536.2966792 ,\n",
       "       11015.41658913, 11133.109114  , 11015.41658913, 11133.109114  ,\n",
       "       10579.12325046, 11203.72462892, 15570.21546943, 13087.15905929,\n",
       "       23142.39640924, 24248.70614297, 23048.24238935, 24342.86016287,\n",
       "       29819.13398143, 29560.21042672, 38084.86726826, 36887.82152897,\n",
       "       19534.15717412,  5839.59780174,  5853.82556115,  6136.28762083,\n",
       "        8819.65043715, 11606.18674596, 10961.06060934, 18871.2760919 ,\n",
       "       19285.55377942, 19309.0922844 , 11135.24554614, 11323.55358593,\n",
       "       11761.54087878, 11761.54087878,  6019.99158096,  6831.56582665,\n",
       "        6156.51490981,  6250.6689297 ,  6655.53121524,  6311.86904263,\n",
       "        6674.36201921,  6406.02306252,  6716.73132817,  6580.20799932,\n",
       "       11332.74595339, 11229.17653151, 22445.30557997, 23391.55347988,\n",
       "       22388.7085116 , 22868.45917635, 25256.2976354 , 23188.58284399,\n",
       "       14248.73095747, 17908.4883867 , 15237.34816634, 18716.92280791,\n",
       "       14400.66302373, 18167.4119414 , 15389.2802326 , 18975.84636261,\n",
       "       14507.65451218, 18167.4119414 , 18315.31025055,  5676.5372741 ,\n",
       "        8739.61952024,  5799.04215638,  5902.61157827,  7505.80928975,\n",
       "       11863.43973759, 18800.66057698, 18205.88219608, 24959.72677135,\n",
       "       24959.72677135, 25166.86561511, 13791.57395935, 13231.35754099,\n",
       "       13465.74809145, 13639.93302825, 13696.42544019, 13936.51819091,\n",
       "       16774.57547431, 16958.1758131 ,  6741.87395228,  8001.94145676,\n",
       "        8566.86557611,  8817.44061256,  8885.05720205, 10197.10379314,\n",
       "        9514.59898547, 11798.66814761,  9319.76981269, 10702.4319187 ,\n",
       "        9823.59847554, 12241.40135396,  5761.92432539,  5984.79039128,\n",
       "        5867.09786641,  7078.58114117,  6945.37070703, 10805.68552262,\n",
       "        7058.89617998,  7190.71180783,  8165.5554308 ,  8562.18780779,\n",
       "        7480.67118107,  7143.73945431,  7228.47807221,  7365.00140105,\n",
       "        7529.77093586,  9883.47450995, 10048.24404476, 15341.58541261,\n",
       "       15322.75460863, 15393.37012355, 15995.95585086, 16160.72538567,\n",
       "       17389.43534526, 11237.74316189,  9931.88932009, 11579.90587178,\n",
       "       11579.90587178, 11787.04471555, 21623.36319906, 21811.67123885,\n",
       "       22085.5781321 , 21364.42951378,  7186.34609846,  9252.57850626,\n",
       "        7200.46920145,  9266.70160925,  9563.28677191,  8171.0947085 ,\n",
       "       10411.30048253,  9551.61632807,  9396.26219524, 14558.59519649,\n",
       "        9250.86701184, 10971.41942458, 16506.09239741, 17080.43191875,\n",
       "       16614.36952029, 17118.09352671, 18586.83451761, 19114.09702901,\n",
       "       16694.4004372 , 19503.67920162, 20475.45837959, 17804.03881343,\n",
       "       17104.07508015])"
      ]
     },
     "execution_count": 586,
     "metadata": {},
     "output_type": "execute_result"
    }
   ],
   "source": [
    "# to produce the predication.\n",
    "y_predicted_muli_fit = lm.predict(Z)\n",
    "y_predicted_muli_fit"
   ]
  },
  {
   "cell_type": "code",
   "execution_count": 588,
   "id": "7a605f88",
   "metadata": {},
   "outputs": [
    {
     "name": "stdout",
     "output_type": "stream",
     "text": [
      "the mean squared error of price and predicted value using the multifit  11980366.87072649\n"
     ]
    }
   ],
   "source": [
    "# compare the predicted result with the actual result using the MSE (mean_square_error)\n",
    "print(\"the mean squared error of price and predicted value using the multifit \", mean_squared_error(df[\"price\"],y_predicted_muli_fit))"
   ]
  },
  {
   "cell_type": "markdown",
   "id": "f34fee9d",
   "metadata": {},
   "source": [
    "### polynomial fit of the model."
   ]
  },
  {
   "cell_type": "code",
   "execution_count": 595,
   "id": "9a22bd6c",
   "metadata": {},
   "outputs": [
    {
     "name": "stdout",
     "output_type": "stream",
     "text": [
      "the r-square value is:  0.7023769091688887\n"
     ]
    }
   ],
   "source": [
    "# import the lybarary.\n",
    "from sklearn.metrics import r2_score\n",
    "# we can calculate is using Rsquared.\n",
    "R_squared = r2_score(y,p(x)) # hit the p(x) is comvert the x value to one dimantion to be anble to calculate it.\n",
    "print(\"the r-square value is: \",R_squared)\n"
   ]
  },
  {
   "cell_type": "code",
   "execution_count": 596,
   "id": "09222d6d",
   "metadata": {},
   "outputs": [
    {
     "data": {
      "text/plain": [
       "18703127.643848788"
      ]
     },
     "execution_count": 596,
     "metadata": {},
     "output_type": "execute_result"
    }
   ],
   "source": [
    "# we can also calculate the mse to comlare the actual value with the predicted value.\n",
    "mean_squared_error(df[\"price\"],p(x))"
   ]
  },
  {
   "cell_type": "markdown",
   "id": "7be0a713",
   "metadata": {},
   "source": [
    "## predication and Decision Making......"
   ]
  },
  {
   "cell_type": "code",
   "execution_count": 606,
   "id": "c3f1cabb",
   "metadata": {},
   "outputs": [
    {
     "name": "stderr",
     "output_type": "stream",
     "text": [
      "C:\\Users\\Mohamed Asharf\\anaconda3\\Lib\\site-packages\\sklearn\\base.py:464: UserWarning: X does not have valid feature names, but LinearRegression was fitted with feature names\n",
      "  warnings.warn(\n"
     ]
    },
    {
     "data": {
      "text/plain": [
       "array([37601.57247984, 36779.83910151, 35958.10572319, 35136.37234487,\n",
       "       34314.63896655])"
      ]
     },
     "execution_count": 606,
     "metadata": {},
     "output_type": "execute_result"
    }
   ],
   "source": [
    "# create a new input.\n",
    "new_input = np.arange(1,100,1).reshape(-1,1)\n",
    "new_input\n",
    "# fit the model\n",
    "lm.fit(x,y)\n",
    "# produce the prediction\n",
    "yhat = lm.predict(new_input)\n",
    "yhat[0:5]"
   ]
  },
  {
   "cell_type": "code",
   "execution_count": 608,
   "id": "30956f30",
   "metadata": {},
   "outputs": [
    {
     "data": {
      "image/png": "[encoded data removed]",
      "text/plain": [
       "<Figure size 640x480 with 1 Axes>"
      ]
     },
     "metadata": {},
     "output_type": "display_data"
    }
   ],
   "source": [
    "# new we can a plot the data tghe input and predicted\n",
    "plt.plot(new_input,yhat)\n",
    "plt.show()"
   ]
  },
  {
   "cell_type": "code",
   "execution_count": null,
   "id": "e050ae3b",
   "metadata": {},
   "outputs": [],
   "source": []
  }
 ],
 "metadata": {
  "kernelspec": {
   "display_name": "Python 3 (ipykernel)",
   "language": "python",
   "name": "python3"
  },
  "language_info": {
   "codemirror_mode": {
    "name": "ipython",
    "version": 3
   },
   "file_extension": ".py",
   "mimetype": "text/x-python",
   "name": "python",
   "nbconvert_exporter": "python",
   "pygments_lexer": "ipython3",
   "version": "3.11.4"
  }
 },
 "nbformat": 4,
 "nbformat_minor": 5
}
